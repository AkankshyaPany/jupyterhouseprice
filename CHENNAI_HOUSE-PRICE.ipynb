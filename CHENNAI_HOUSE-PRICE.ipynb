{
 "cells": [
  {
   "cell_type": "code",
   "execution_count": 410,
   "metadata": {},
   "outputs": [],
   "source": [
    "import os\n",
    "import pandas as pd\n",
    "import matplotlib.pyplot as plt\n",
    "import seaborn as sns\n",
    "import numpy as np\n",
    "os.getcwd()\n",
    "os.chdir('F:\\Read_data')\n",
    "df= pd.read_csv('chennai_house_price_prediction.csv')"
   ]
  },
  {
   "cell_type": "code",
   "execution_count": 411,
   "metadata": {},
   "outputs": [
    {
     "data": {
      "text/plain": [
       "(7109, 19)"
      ]
     },
     "execution_count": 411,
     "metadata": {},
     "output_type": "execute_result"
    }
   ],
   "source": [
    "df.shape"
   ]
  },
  {
   "cell_type": "code",
   "execution_count": 412,
   "metadata": {},
   "outputs": [
    {
     "data": {
      "text/plain": [
       "(7109, 19)"
      ]
     },
     "execution_count": 412,
     "metadata": {},
     "output_type": "execute_result"
    }
   ],
   "source": [
    "df.drop_duplicates().shape   # no duplicates"
   ]
  },
  {
   "cell_type": "code",
   "execution_count": 413,
   "metadata": {},
   "outputs": [
    {
     "data": {
      "text/html": [
       "<div>\n",
       "<style scoped>\n",
       "    .dataframe tbody tr th:only-of-type {\n",
       "        vertical-align: middle;\n",
       "    }\n",
       "\n",
       "    .dataframe tbody tr th {\n",
       "        vertical-align: top;\n",
       "    }\n",
       "\n",
       "    .dataframe thead th {\n",
       "        text-align: right;\n",
       "    }\n",
       "</style>\n",
       "<table border=\"1\" class=\"dataframe\">\n",
       "  <thead>\n",
       "    <tr style=\"text-align: right;\">\n",
       "      <th></th>\n",
       "      <th>PRT_ID</th>\n",
       "      <th>AREA</th>\n",
       "      <th>INT_SQFT</th>\n",
       "      <th>DIST_MAINROAD</th>\n",
       "      <th>N_BEDROOM</th>\n",
       "      <th>N_BATHROOM</th>\n",
       "      <th>N_ROOM</th>\n",
       "      <th>SALE_COND</th>\n",
       "      <th>PARK_FACIL</th>\n",
       "      <th>BUILDTYPE</th>\n",
       "      <th>UTILITY_AVAIL</th>\n",
       "      <th>STREET</th>\n",
       "      <th>MZZONE</th>\n",
       "      <th>QS_ROOMS</th>\n",
       "      <th>QS_BATHROOM</th>\n",
       "      <th>QS_BEDROOM</th>\n",
       "      <th>QS_OVERALL</th>\n",
       "      <th>COMMIS</th>\n",
       "      <th>SALES_PRICE</th>\n",
       "    </tr>\n",
       "  </thead>\n",
       "  <tbody>\n",
       "    <tr>\n",
       "      <th>0</th>\n",
       "      <td>P03210</td>\n",
       "      <td>Karapakkam</td>\n",
       "      <td>1004</td>\n",
       "      <td>131</td>\n",
       "      <td>1.0</td>\n",
       "      <td>1.0</td>\n",
       "      <td>3</td>\n",
       "      <td>AbNormal</td>\n",
       "      <td>Yes</td>\n",
       "      <td>Commercial</td>\n",
       "      <td>AllPub</td>\n",
       "      <td>Paved</td>\n",
       "      <td>A</td>\n",
       "      <td>4.0</td>\n",
       "      <td>3.9</td>\n",
       "      <td>4.9</td>\n",
       "      <td>4.330</td>\n",
       "      <td>144400</td>\n",
       "      <td>7600000</td>\n",
       "    </tr>\n",
       "    <tr>\n",
       "      <th>1</th>\n",
       "      <td>P09411</td>\n",
       "      <td>Anna Nagar</td>\n",
       "      <td>1986</td>\n",
       "      <td>26</td>\n",
       "      <td>2.0</td>\n",
       "      <td>1.0</td>\n",
       "      <td>5</td>\n",
       "      <td>AbNormal</td>\n",
       "      <td>No</td>\n",
       "      <td>Commercial</td>\n",
       "      <td>AllPub</td>\n",
       "      <td>Gravel</td>\n",
       "      <td>RH</td>\n",
       "      <td>4.9</td>\n",
       "      <td>4.2</td>\n",
       "      <td>2.5</td>\n",
       "      <td>3.765</td>\n",
       "      <td>304049</td>\n",
       "      <td>21717770</td>\n",
       "    </tr>\n",
       "    <tr>\n",
       "      <th>2</th>\n",
       "      <td>P01812</td>\n",
       "      <td>Adyar</td>\n",
       "      <td>909</td>\n",
       "      <td>70</td>\n",
       "      <td>1.0</td>\n",
       "      <td>1.0</td>\n",
       "      <td>3</td>\n",
       "      <td>AbNormal</td>\n",
       "      <td>Yes</td>\n",
       "      <td>Commercial</td>\n",
       "      <td>ELO</td>\n",
       "      <td>Gravel</td>\n",
       "      <td>RL</td>\n",
       "      <td>4.1</td>\n",
       "      <td>3.8</td>\n",
       "      <td>2.2</td>\n",
       "      <td>3.090</td>\n",
       "      <td>92114</td>\n",
       "      <td>13159200</td>\n",
       "    </tr>\n",
       "    <tr>\n",
       "      <th>3</th>\n",
       "      <td>P05346</td>\n",
       "      <td>Velachery</td>\n",
       "      <td>1855</td>\n",
       "      <td>14</td>\n",
       "      <td>3.0</td>\n",
       "      <td>2.0</td>\n",
       "      <td>5</td>\n",
       "      <td>Family</td>\n",
       "      <td>No</td>\n",
       "      <td>Others</td>\n",
       "      <td>NoSewr</td>\n",
       "      <td>Paved</td>\n",
       "      <td>I</td>\n",
       "      <td>4.7</td>\n",
       "      <td>3.9</td>\n",
       "      <td>3.6</td>\n",
       "      <td>4.010</td>\n",
       "      <td>77042</td>\n",
       "      <td>9630290</td>\n",
       "    </tr>\n",
       "    <tr>\n",
       "      <th>4</th>\n",
       "      <td>P06210</td>\n",
       "      <td>Karapakkam</td>\n",
       "      <td>1226</td>\n",
       "      <td>84</td>\n",
       "      <td>1.0</td>\n",
       "      <td>1.0</td>\n",
       "      <td>3</td>\n",
       "      <td>AbNormal</td>\n",
       "      <td>Yes</td>\n",
       "      <td>Others</td>\n",
       "      <td>AllPub</td>\n",
       "      <td>Gravel</td>\n",
       "      <td>C</td>\n",
       "      <td>3.0</td>\n",
       "      <td>2.5</td>\n",
       "      <td>4.1</td>\n",
       "      <td>3.290</td>\n",
       "      <td>74063</td>\n",
       "      <td>7406250</td>\n",
       "    </tr>\n",
       "    <tr>\n",
       "      <th>5</th>\n",
       "      <td>P00219</td>\n",
       "      <td>Chrompet</td>\n",
       "      <td>1220</td>\n",
       "      <td>36</td>\n",
       "      <td>2.0</td>\n",
       "      <td>1.0</td>\n",
       "      <td>4</td>\n",
       "      <td>Partial</td>\n",
       "      <td>No</td>\n",
       "      <td>Commercial</td>\n",
       "      <td>NoSeWa</td>\n",
       "      <td>No Access</td>\n",
       "      <td>RH</td>\n",
       "      <td>4.5</td>\n",
       "      <td>2.6</td>\n",
       "      <td>3.1</td>\n",
       "      <td>3.320</td>\n",
       "      <td>198316</td>\n",
       "      <td>12394750</td>\n",
       "    </tr>\n",
       "    <tr>\n",
       "      <th>6</th>\n",
       "      <td>P09105</td>\n",
       "      <td>Chrompet</td>\n",
       "      <td>1167</td>\n",
       "      <td>137</td>\n",
       "      <td>1.0</td>\n",
       "      <td>1.0</td>\n",
       "      <td>3</td>\n",
       "      <td>Partial</td>\n",
       "      <td>No</td>\n",
       "      <td>Other</td>\n",
       "      <td>AllPub</td>\n",
       "      <td>No Access</td>\n",
       "      <td>RL</td>\n",
       "      <td>3.6</td>\n",
       "      <td>2.1</td>\n",
       "      <td>2.5</td>\n",
       "      <td>2.670</td>\n",
       "      <td>33955</td>\n",
       "      <td>8488790</td>\n",
       "    </tr>\n",
       "    <tr>\n",
       "      <th>7</th>\n",
       "      <td>P09679</td>\n",
       "      <td>Velachery</td>\n",
       "      <td>1847</td>\n",
       "      <td>176</td>\n",
       "      <td>3.0</td>\n",
       "      <td>2.0</td>\n",
       "      <td>5</td>\n",
       "      <td>Family</td>\n",
       "      <td>No</td>\n",
       "      <td>Commercial</td>\n",
       "      <td>AllPub</td>\n",
       "      <td>Gravel</td>\n",
       "      <td>RM</td>\n",
       "      <td>2.4</td>\n",
       "      <td>4.5</td>\n",
       "      <td>2.1</td>\n",
       "      <td>3.260</td>\n",
       "      <td>235204</td>\n",
       "      <td>16800250</td>\n",
       "    </tr>\n",
       "    <tr>\n",
       "      <th>8</th>\n",
       "      <td>P03377</td>\n",
       "      <td>Chrompet</td>\n",
       "      <td>771</td>\n",
       "      <td>175</td>\n",
       "      <td>1.0</td>\n",
       "      <td>1.0</td>\n",
       "      <td>2</td>\n",
       "      <td>AdjLand</td>\n",
       "      <td>No</td>\n",
       "      <td>Others</td>\n",
       "      <td>NoSewr</td>\n",
       "      <td>Paved</td>\n",
       "      <td>RM</td>\n",
       "      <td>2.9</td>\n",
       "      <td>3.7</td>\n",
       "      <td>4.0</td>\n",
       "      <td>3.550</td>\n",
       "      <td>33236</td>\n",
       "      <td>8308970</td>\n",
       "    </tr>\n",
       "    <tr>\n",
       "      <th>9</th>\n",
       "      <td>P09623</td>\n",
       "      <td>Velachery</td>\n",
       "      <td>1635</td>\n",
       "      <td>74</td>\n",
       "      <td>2.0</td>\n",
       "      <td>1.0</td>\n",
       "      <td>4</td>\n",
       "      <td>AbNormal</td>\n",
       "      <td>No</td>\n",
       "      <td>Others</td>\n",
       "      <td>ELO</td>\n",
       "      <td>No Access</td>\n",
       "      <td>I</td>\n",
       "      <td>3.1</td>\n",
       "      <td>3.1</td>\n",
       "      <td>3.3</td>\n",
       "      <td>3.160</td>\n",
       "      <td>121255</td>\n",
       "      <td>8083650</td>\n",
       "    </tr>\n",
       "  </tbody>\n",
       "</table>\n",
       "</div>"
      ],
      "text/plain": [
       "   PRT_ID        AREA  INT_SQFT  DIST_MAINROAD  N_BEDROOM  N_BATHROOM  N_ROOM  \\\n",
       "0  P03210  Karapakkam      1004            131        1.0         1.0       3   \n",
       "1  P09411  Anna Nagar      1986             26        2.0         1.0       5   \n",
       "2  P01812       Adyar       909             70        1.0         1.0       3   \n",
       "3  P05346   Velachery      1855             14        3.0         2.0       5   \n",
       "4  P06210  Karapakkam      1226             84        1.0         1.0       3   \n",
       "5  P00219    Chrompet      1220             36        2.0         1.0       4   \n",
       "6  P09105    Chrompet      1167            137        1.0         1.0       3   \n",
       "7  P09679   Velachery      1847            176        3.0         2.0       5   \n",
       "8  P03377    Chrompet       771            175        1.0         1.0       2   \n",
       "9  P09623   Velachery      1635             74        2.0         1.0       4   \n",
       "\n",
       "  SALE_COND PARK_FACIL   BUILDTYPE UTILITY_AVAIL     STREET MZZONE  QS_ROOMS  \\\n",
       "0  AbNormal        Yes  Commercial        AllPub      Paved      A       4.0   \n",
       "1  AbNormal         No  Commercial        AllPub     Gravel     RH       4.9   \n",
       "2  AbNormal        Yes  Commercial           ELO     Gravel     RL       4.1   \n",
       "3    Family         No      Others       NoSewr       Paved      I       4.7   \n",
       "4  AbNormal        Yes      Others        AllPub     Gravel      C       3.0   \n",
       "5   Partial         No  Commercial        NoSeWa  No Access     RH       4.5   \n",
       "6   Partial         No       Other        AllPub  No Access     RL       3.6   \n",
       "7    Family         No  Commercial        AllPub     Gravel     RM       2.4   \n",
       "8   AdjLand         No      Others       NoSewr       Paved     RM       2.9   \n",
       "9  AbNormal         No      Others           ELO  No Access      I       3.1   \n",
       "\n",
       "   QS_BATHROOM  QS_BEDROOM  QS_OVERALL  COMMIS  SALES_PRICE  \n",
       "0          3.9         4.9       4.330  144400      7600000  \n",
       "1          4.2         2.5       3.765  304049     21717770  \n",
       "2          3.8         2.2       3.090   92114     13159200  \n",
       "3          3.9         3.6       4.010   77042      9630290  \n",
       "4          2.5         4.1       3.290   74063      7406250  \n",
       "5          2.6         3.1       3.320  198316     12394750  \n",
       "6          2.1         2.5       2.670   33955      8488790  \n",
       "7          4.5         2.1       3.260  235204     16800250  \n",
       "8          3.7         4.0       3.550   33236      8308970  \n",
       "9          3.1         3.3       3.160  121255      8083650  "
      ]
     },
     "execution_count": 413,
     "metadata": {},
     "output_type": "execute_result"
    }
   ],
   "source": [
    "df.head(10)"
   ]
  },
  {
   "cell_type": "code",
   "execution_count": 414,
   "metadata": {
    "scrolled": true
   },
   "outputs": [
    {
     "data": {
      "text/plain": [
       "PRT_ID            object\n",
       "AREA              object\n",
       "INT_SQFT           int64\n",
       "DIST_MAINROAD      int64\n",
       "N_BEDROOM        float64\n",
       "N_BATHROOM       float64\n",
       "N_ROOM             int64\n",
       "SALE_COND         object\n",
       "PARK_FACIL        object\n",
       "BUILDTYPE         object\n",
       "UTILITY_AVAIL     object\n",
       "STREET            object\n",
       "MZZONE            object\n",
       "QS_ROOMS         float64\n",
       "QS_BATHROOM      float64\n",
       "QS_BEDROOM       float64\n",
       "QS_OVERALL       float64\n",
       "COMMIS             int64\n",
       "SALES_PRICE        int64\n",
       "dtype: object"
      ]
     },
     "execution_count": 414,
     "metadata": {},
     "output_type": "execute_result"
    }
   ],
   "source": [
    "df.dtypes"
   ]
  },
  {
   "cell_type": "code",
   "execution_count": 415,
   "metadata": {},
   "outputs": [
    {
     "data": {
      "text/html": [
       "<div>\n",
       "<style scoped>\n",
       "    .dataframe tbody tr th:only-of-type {\n",
       "        vertical-align: middle;\n",
       "    }\n",
       "\n",
       "    .dataframe tbody tr th {\n",
       "        vertical-align: top;\n",
       "    }\n",
       "\n",
       "    .dataframe thead th {\n",
       "        text-align: right;\n",
       "    }\n",
       "</style>\n",
       "<table border=\"1\" class=\"dataframe\">\n",
       "  <thead>\n",
       "    <tr style=\"text-align: right;\">\n",
       "      <th></th>\n",
       "      <th>INT_SQFT</th>\n",
       "      <th>DIST_MAINROAD</th>\n",
       "      <th>N_BEDROOM</th>\n",
       "      <th>N_BATHROOM</th>\n",
       "      <th>N_ROOM</th>\n",
       "      <th>QS_ROOMS</th>\n",
       "      <th>QS_BATHROOM</th>\n",
       "      <th>QS_BEDROOM</th>\n",
       "      <th>QS_OVERALL</th>\n",
       "      <th>COMMIS</th>\n",
       "      <th>SALES_PRICE</th>\n",
       "    </tr>\n",
       "  </thead>\n",
       "  <tbody>\n",
       "    <tr>\n",
       "      <th>count</th>\n",
       "      <td>7109.000000</td>\n",
       "      <td>7109.000000</td>\n",
       "      <td>7108.000000</td>\n",
       "      <td>7104.000000</td>\n",
       "      <td>7109.000000</td>\n",
       "      <td>7109.000000</td>\n",
       "      <td>7109.000000</td>\n",
       "      <td>7109.000000</td>\n",
       "      <td>7061.000000</td>\n",
       "      <td>7109.000000</td>\n",
       "      <td>7.109000e+03</td>\n",
       "    </tr>\n",
       "    <tr>\n",
       "      <th>mean</th>\n",
       "      <td>1382.073006</td>\n",
       "      <td>99.603179</td>\n",
       "      <td>1.637029</td>\n",
       "      <td>1.213260</td>\n",
       "      <td>3.688704</td>\n",
       "      <td>3.517471</td>\n",
       "      <td>3.507244</td>\n",
       "      <td>3.485300</td>\n",
       "      <td>3.503254</td>\n",
       "      <td>141005.726544</td>\n",
       "      <td>1.089491e+07</td>\n",
       "    </tr>\n",
       "    <tr>\n",
       "      <th>std</th>\n",
       "      <td>457.410902</td>\n",
       "      <td>57.403110</td>\n",
       "      <td>0.802902</td>\n",
       "      <td>0.409639</td>\n",
       "      <td>1.019099</td>\n",
       "      <td>0.891972</td>\n",
       "      <td>0.897834</td>\n",
       "      <td>0.887266</td>\n",
       "      <td>0.527223</td>\n",
       "      <td>78768.093718</td>\n",
       "      <td>3.768603e+06</td>\n",
       "    </tr>\n",
       "    <tr>\n",
       "      <th>min</th>\n",
       "      <td>500.000000</td>\n",
       "      <td>0.000000</td>\n",
       "      <td>1.000000</td>\n",
       "      <td>1.000000</td>\n",
       "      <td>2.000000</td>\n",
       "      <td>2.000000</td>\n",
       "      <td>2.000000</td>\n",
       "      <td>2.000000</td>\n",
       "      <td>2.000000</td>\n",
       "      <td>5055.000000</td>\n",
       "      <td>2.156875e+06</td>\n",
       "    </tr>\n",
       "    <tr>\n",
       "      <th>25%</th>\n",
       "      <td>993.000000</td>\n",
       "      <td>50.000000</td>\n",
       "      <td>1.000000</td>\n",
       "      <td>1.000000</td>\n",
       "      <td>3.000000</td>\n",
       "      <td>2.700000</td>\n",
       "      <td>2.700000</td>\n",
       "      <td>2.700000</td>\n",
       "      <td>3.130000</td>\n",
       "      <td>84219.000000</td>\n",
       "      <td>8.272100e+06</td>\n",
       "    </tr>\n",
       "    <tr>\n",
       "      <th>50%</th>\n",
       "      <td>1373.000000</td>\n",
       "      <td>99.000000</td>\n",
       "      <td>1.000000</td>\n",
       "      <td>1.000000</td>\n",
       "      <td>4.000000</td>\n",
       "      <td>3.500000</td>\n",
       "      <td>3.500000</td>\n",
       "      <td>3.500000</td>\n",
       "      <td>3.500000</td>\n",
       "      <td>127628.000000</td>\n",
       "      <td>1.033505e+07</td>\n",
       "    </tr>\n",
       "    <tr>\n",
       "      <th>75%</th>\n",
       "      <td>1744.000000</td>\n",
       "      <td>148.000000</td>\n",
       "      <td>2.000000</td>\n",
       "      <td>1.000000</td>\n",
       "      <td>4.000000</td>\n",
       "      <td>4.300000</td>\n",
       "      <td>4.300000</td>\n",
       "      <td>4.300000</td>\n",
       "      <td>3.890000</td>\n",
       "      <td>184506.000000</td>\n",
       "      <td>1.299390e+07</td>\n",
       "    </tr>\n",
       "    <tr>\n",
       "      <th>max</th>\n",
       "      <td>2500.000000</td>\n",
       "      <td>200.000000</td>\n",
       "      <td>4.000000</td>\n",
       "      <td>2.000000</td>\n",
       "      <td>6.000000</td>\n",
       "      <td>5.000000</td>\n",
       "      <td>5.000000</td>\n",
       "      <td>5.000000</td>\n",
       "      <td>4.970000</td>\n",
       "      <td>495405.000000</td>\n",
       "      <td>2.366734e+07</td>\n",
       "    </tr>\n",
       "  </tbody>\n",
       "</table>\n",
       "</div>"
      ],
      "text/plain": [
       "          INT_SQFT  DIST_MAINROAD    N_BEDROOM   N_BATHROOM       N_ROOM  \\\n",
       "count  7109.000000    7109.000000  7108.000000  7104.000000  7109.000000   \n",
       "mean   1382.073006      99.603179     1.637029     1.213260     3.688704   \n",
       "std     457.410902      57.403110     0.802902     0.409639     1.019099   \n",
       "min     500.000000       0.000000     1.000000     1.000000     2.000000   \n",
       "25%     993.000000      50.000000     1.000000     1.000000     3.000000   \n",
       "50%    1373.000000      99.000000     1.000000     1.000000     4.000000   \n",
       "75%    1744.000000     148.000000     2.000000     1.000000     4.000000   \n",
       "max    2500.000000     200.000000     4.000000     2.000000     6.000000   \n",
       "\n",
       "          QS_ROOMS  QS_BATHROOM   QS_BEDROOM   QS_OVERALL         COMMIS  \\\n",
       "count  7109.000000  7109.000000  7109.000000  7061.000000    7109.000000   \n",
       "mean      3.517471     3.507244     3.485300     3.503254  141005.726544   \n",
       "std       0.891972     0.897834     0.887266     0.527223   78768.093718   \n",
       "min       2.000000     2.000000     2.000000     2.000000    5055.000000   \n",
       "25%       2.700000     2.700000     2.700000     3.130000   84219.000000   \n",
       "50%       3.500000     3.500000     3.500000     3.500000  127628.000000   \n",
       "75%       4.300000     4.300000     4.300000     3.890000  184506.000000   \n",
       "max       5.000000     5.000000     5.000000     4.970000  495405.000000   \n",
       "\n",
       "        SALES_PRICE  \n",
       "count  7.109000e+03  \n",
       "mean   1.089491e+07  \n",
       "std    3.768603e+06  \n",
       "min    2.156875e+06  \n",
       "25%    8.272100e+06  \n",
       "50%    1.033505e+07  \n",
       "75%    1.299390e+07  \n",
       "max    2.366734e+07  "
      ]
     },
     "execution_count": 415,
     "metadata": {},
     "output_type": "execute_result"
    }
   ],
   "source": [
    "df.describe()"
   ]
  },
  {
   "cell_type": "code",
   "execution_count": 416,
   "metadata": {},
   "outputs": [
    {
     "data": {
      "text/html": [
       "<div>\n",
       "<style scoped>\n",
       "    .dataframe tbody tr th:only-of-type {\n",
       "        vertical-align: middle;\n",
       "    }\n",
       "\n",
       "    .dataframe tbody tr th {\n",
       "        vertical-align: top;\n",
       "    }\n",
       "\n",
       "    .dataframe thead th {\n",
       "        text-align: right;\n",
       "    }\n",
       "</style>\n",
       "<table border=\"1\" class=\"dataframe\">\n",
       "  <thead>\n",
       "    <tr style=\"text-align: right;\">\n",
       "      <th></th>\n",
       "      <th>PRT_ID</th>\n",
       "      <th>AREA</th>\n",
       "      <th>INT_SQFT</th>\n",
       "      <th>DIST_MAINROAD</th>\n",
       "      <th>N_BEDROOM</th>\n",
       "      <th>N_BATHROOM</th>\n",
       "      <th>N_ROOM</th>\n",
       "      <th>SALE_COND</th>\n",
       "      <th>PARK_FACIL</th>\n",
       "      <th>BUILDTYPE</th>\n",
       "      <th>UTILITY_AVAIL</th>\n",
       "      <th>STREET</th>\n",
       "      <th>MZZONE</th>\n",
       "      <th>QS_ROOMS</th>\n",
       "      <th>QS_BATHROOM</th>\n",
       "      <th>QS_BEDROOM</th>\n",
       "      <th>QS_OVERALL</th>\n",
       "      <th>COMMIS</th>\n",
       "      <th>SALES_PRICE</th>\n",
       "    </tr>\n",
       "  </thead>\n",
       "  <tbody>\n",
       "    <tr>\n",
       "      <th>count</th>\n",
       "      <td>7109</td>\n",
       "      <td>7109</td>\n",
       "      <td>7109.000000</td>\n",
       "      <td>7109.000000</td>\n",
       "      <td>7108.000000</td>\n",
       "      <td>7104.000000</td>\n",
       "      <td>7109.000000</td>\n",
       "      <td>7109</td>\n",
       "      <td>7109</td>\n",
       "      <td>7109</td>\n",
       "      <td>7109</td>\n",
       "      <td>7109</td>\n",
       "      <td>7109</td>\n",
       "      <td>7109.000000</td>\n",
       "      <td>7109.000000</td>\n",
       "      <td>7109.000000</td>\n",
       "      <td>7061.000000</td>\n",
       "      <td>7109.000000</td>\n",
       "      <td>7.109000e+03</td>\n",
       "    </tr>\n",
       "    <tr>\n",
       "      <th>unique</th>\n",
       "      <td>7109</td>\n",
       "      <td>17</td>\n",
       "      <td>NaN</td>\n",
       "      <td>NaN</td>\n",
       "      <td>NaN</td>\n",
       "      <td>NaN</td>\n",
       "      <td>NaN</td>\n",
       "      <td>9</td>\n",
       "      <td>3</td>\n",
       "      <td>5</td>\n",
       "      <td>5</td>\n",
       "      <td>5</td>\n",
       "      <td>6</td>\n",
       "      <td>NaN</td>\n",
       "      <td>NaN</td>\n",
       "      <td>NaN</td>\n",
       "      <td>NaN</td>\n",
       "      <td>NaN</td>\n",
       "      <td>NaN</td>\n",
       "    </tr>\n",
       "    <tr>\n",
       "      <th>top</th>\n",
       "      <td>P00815</td>\n",
       "      <td>Chrompet</td>\n",
       "      <td>NaN</td>\n",
       "      <td>NaN</td>\n",
       "      <td>NaN</td>\n",
       "      <td>NaN</td>\n",
       "      <td>NaN</td>\n",
       "      <td>AdjLand</td>\n",
       "      <td>Yes</td>\n",
       "      <td>House</td>\n",
       "      <td>AllPub</td>\n",
       "      <td>Paved</td>\n",
       "      <td>RL</td>\n",
       "      <td>NaN</td>\n",
       "      <td>NaN</td>\n",
       "      <td>NaN</td>\n",
       "      <td>NaN</td>\n",
       "      <td>NaN</td>\n",
       "      <td>NaN</td>\n",
       "    </tr>\n",
       "    <tr>\n",
       "      <th>freq</th>\n",
       "      <td>1</td>\n",
       "      <td>1681</td>\n",
       "      <td>NaN</td>\n",
       "      <td>NaN</td>\n",
       "      <td>NaN</td>\n",
       "      <td>NaN</td>\n",
       "      <td>NaN</td>\n",
       "      <td>1433</td>\n",
       "      <td>3587</td>\n",
       "      <td>2444</td>\n",
       "      <td>1886</td>\n",
       "      <td>2560</td>\n",
       "      <td>1858</td>\n",
       "      <td>NaN</td>\n",
       "      <td>NaN</td>\n",
       "      <td>NaN</td>\n",
       "      <td>NaN</td>\n",
       "      <td>NaN</td>\n",
       "      <td>NaN</td>\n",
       "    </tr>\n",
       "    <tr>\n",
       "      <th>mean</th>\n",
       "      <td>NaN</td>\n",
       "      <td>NaN</td>\n",
       "      <td>1382.073006</td>\n",
       "      <td>99.603179</td>\n",
       "      <td>1.637029</td>\n",
       "      <td>1.213260</td>\n",
       "      <td>3.688704</td>\n",
       "      <td>NaN</td>\n",
       "      <td>NaN</td>\n",
       "      <td>NaN</td>\n",
       "      <td>NaN</td>\n",
       "      <td>NaN</td>\n",
       "      <td>NaN</td>\n",
       "      <td>3.517471</td>\n",
       "      <td>3.507244</td>\n",
       "      <td>3.485300</td>\n",
       "      <td>3.503254</td>\n",
       "      <td>141005.726544</td>\n",
       "      <td>1.089491e+07</td>\n",
       "    </tr>\n",
       "    <tr>\n",
       "      <th>std</th>\n",
       "      <td>NaN</td>\n",
       "      <td>NaN</td>\n",
       "      <td>457.410902</td>\n",
       "      <td>57.403110</td>\n",
       "      <td>0.802902</td>\n",
       "      <td>0.409639</td>\n",
       "      <td>1.019099</td>\n",
       "      <td>NaN</td>\n",
       "      <td>NaN</td>\n",
       "      <td>NaN</td>\n",
       "      <td>NaN</td>\n",
       "      <td>NaN</td>\n",
       "      <td>NaN</td>\n",
       "      <td>0.891972</td>\n",
       "      <td>0.897834</td>\n",
       "      <td>0.887266</td>\n",
       "      <td>0.527223</td>\n",
       "      <td>78768.093718</td>\n",
       "      <td>3.768603e+06</td>\n",
       "    </tr>\n",
       "    <tr>\n",
       "      <th>min</th>\n",
       "      <td>NaN</td>\n",
       "      <td>NaN</td>\n",
       "      <td>500.000000</td>\n",
       "      <td>0.000000</td>\n",
       "      <td>1.000000</td>\n",
       "      <td>1.000000</td>\n",
       "      <td>2.000000</td>\n",
       "      <td>NaN</td>\n",
       "      <td>NaN</td>\n",
       "      <td>NaN</td>\n",
       "      <td>NaN</td>\n",
       "      <td>NaN</td>\n",
       "      <td>NaN</td>\n",
       "      <td>2.000000</td>\n",
       "      <td>2.000000</td>\n",
       "      <td>2.000000</td>\n",
       "      <td>2.000000</td>\n",
       "      <td>5055.000000</td>\n",
       "      <td>2.156875e+06</td>\n",
       "    </tr>\n",
       "    <tr>\n",
       "      <th>25%</th>\n",
       "      <td>NaN</td>\n",
       "      <td>NaN</td>\n",
       "      <td>993.000000</td>\n",
       "      <td>50.000000</td>\n",
       "      <td>1.000000</td>\n",
       "      <td>1.000000</td>\n",
       "      <td>3.000000</td>\n",
       "      <td>NaN</td>\n",
       "      <td>NaN</td>\n",
       "      <td>NaN</td>\n",
       "      <td>NaN</td>\n",
       "      <td>NaN</td>\n",
       "      <td>NaN</td>\n",
       "      <td>2.700000</td>\n",
       "      <td>2.700000</td>\n",
       "      <td>2.700000</td>\n",
       "      <td>3.130000</td>\n",
       "      <td>84219.000000</td>\n",
       "      <td>8.272100e+06</td>\n",
       "    </tr>\n",
       "    <tr>\n",
       "      <th>50%</th>\n",
       "      <td>NaN</td>\n",
       "      <td>NaN</td>\n",
       "      <td>1373.000000</td>\n",
       "      <td>99.000000</td>\n",
       "      <td>1.000000</td>\n",
       "      <td>1.000000</td>\n",
       "      <td>4.000000</td>\n",
       "      <td>NaN</td>\n",
       "      <td>NaN</td>\n",
       "      <td>NaN</td>\n",
       "      <td>NaN</td>\n",
       "      <td>NaN</td>\n",
       "      <td>NaN</td>\n",
       "      <td>3.500000</td>\n",
       "      <td>3.500000</td>\n",
       "      <td>3.500000</td>\n",
       "      <td>3.500000</td>\n",
       "      <td>127628.000000</td>\n",
       "      <td>1.033505e+07</td>\n",
       "    </tr>\n",
       "    <tr>\n",
       "      <th>75%</th>\n",
       "      <td>NaN</td>\n",
       "      <td>NaN</td>\n",
       "      <td>1744.000000</td>\n",
       "      <td>148.000000</td>\n",
       "      <td>2.000000</td>\n",
       "      <td>1.000000</td>\n",
       "      <td>4.000000</td>\n",
       "      <td>NaN</td>\n",
       "      <td>NaN</td>\n",
       "      <td>NaN</td>\n",
       "      <td>NaN</td>\n",
       "      <td>NaN</td>\n",
       "      <td>NaN</td>\n",
       "      <td>4.300000</td>\n",
       "      <td>4.300000</td>\n",
       "      <td>4.300000</td>\n",
       "      <td>3.890000</td>\n",
       "      <td>184506.000000</td>\n",
       "      <td>1.299390e+07</td>\n",
       "    </tr>\n",
       "    <tr>\n",
       "      <th>max</th>\n",
       "      <td>NaN</td>\n",
       "      <td>NaN</td>\n",
       "      <td>2500.000000</td>\n",
       "      <td>200.000000</td>\n",
       "      <td>4.000000</td>\n",
       "      <td>2.000000</td>\n",
       "      <td>6.000000</td>\n",
       "      <td>NaN</td>\n",
       "      <td>NaN</td>\n",
       "      <td>NaN</td>\n",
       "      <td>NaN</td>\n",
       "      <td>NaN</td>\n",
       "      <td>NaN</td>\n",
       "      <td>5.000000</td>\n",
       "      <td>5.000000</td>\n",
       "      <td>5.000000</td>\n",
       "      <td>4.970000</td>\n",
       "      <td>495405.000000</td>\n",
       "      <td>2.366734e+07</td>\n",
       "    </tr>\n",
       "  </tbody>\n",
       "</table>\n",
       "</div>"
      ],
      "text/plain": [
       "        PRT_ID      AREA     INT_SQFT  DIST_MAINROAD    N_BEDROOM  \\\n",
       "count     7109      7109  7109.000000    7109.000000  7108.000000   \n",
       "unique    7109        17          NaN            NaN          NaN   \n",
       "top     P00815  Chrompet          NaN            NaN          NaN   \n",
       "freq         1      1681          NaN            NaN          NaN   \n",
       "mean       NaN       NaN  1382.073006      99.603179     1.637029   \n",
       "std        NaN       NaN   457.410902      57.403110     0.802902   \n",
       "min        NaN       NaN   500.000000       0.000000     1.000000   \n",
       "25%        NaN       NaN   993.000000      50.000000     1.000000   \n",
       "50%        NaN       NaN  1373.000000      99.000000     1.000000   \n",
       "75%        NaN       NaN  1744.000000     148.000000     2.000000   \n",
       "max        NaN       NaN  2500.000000     200.000000     4.000000   \n",
       "\n",
       "         N_BATHROOM       N_ROOM SALE_COND PARK_FACIL BUILDTYPE UTILITY_AVAIL  \\\n",
       "count   7104.000000  7109.000000      7109       7109      7109          7109   \n",
       "unique          NaN          NaN         9          3         5             5   \n",
       "top             NaN          NaN   AdjLand        Yes     House        AllPub   \n",
       "freq            NaN          NaN      1433       3587      2444          1886   \n",
       "mean       1.213260     3.688704       NaN        NaN       NaN           NaN   \n",
       "std        0.409639     1.019099       NaN        NaN       NaN           NaN   \n",
       "min        1.000000     2.000000       NaN        NaN       NaN           NaN   \n",
       "25%        1.000000     3.000000       NaN        NaN       NaN           NaN   \n",
       "50%        1.000000     4.000000       NaN        NaN       NaN           NaN   \n",
       "75%        1.000000     4.000000       NaN        NaN       NaN           NaN   \n",
       "max        2.000000     6.000000       NaN        NaN       NaN           NaN   \n",
       "\n",
       "       STREET MZZONE     QS_ROOMS  QS_BATHROOM   QS_BEDROOM   QS_OVERALL  \\\n",
       "count    7109   7109  7109.000000  7109.000000  7109.000000  7061.000000   \n",
       "unique      5      6          NaN          NaN          NaN          NaN   \n",
       "top     Paved     RL          NaN          NaN          NaN          NaN   \n",
       "freq     2560   1858          NaN          NaN          NaN          NaN   \n",
       "mean      NaN    NaN     3.517471     3.507244     3.485300     3.503254   \n",
       "std       NaN    NaN     0.891972     0.897834     0.887266     0.527223   \n",
       "min       NaN    NaN     2.000000     2.000000     2.000000     2.000000   \n",
       "25%       NaN    NaN     2.700000     2.700000     2.700000     3.130000   \n",
       "50%       NaN    NaN     3.500000     3.500000     3.500000     3.500000   \n",
       "75%       NaN    NaN     4.300000     4.300000     4.300000     3.890000   \n",
       "max       NaN    NaN     5.000000     5.000000     5.000000     4.970000   \n",
       "\n",
       "               COMMIS   SALES_PRICE  \n",
       "count     7109.000000  7.109000e+03  \n",
       "unique            NaN           NaN  \n",
       "top               NaN           NaN  \n",
       "freq              NaN           NaN  \n",
       "mean    141005.726544  1.089491e+07  \n",
       "std      78768.093718  3.768603e+06  \n",
       "min       5055.000000  2.156875e+06  \n",
       "25%      84219.000000  8.272100e+06  \n",
       "50%     127628.000000  1.033505e+07  \n",
       "75%     184506.000000  1.299390e+07  \n",
       "max     495405.000000  2.366734e+07  "
      ]
     },
     "execution_count": 416,
     "metadata": {},
     "output_type": "execute_result"
    }
   ],
   "source": [
    "df.describe(include=\"all\")"
   ]
  },
  {
   "cell_type": "code",
   "execution_count": 417,
   "metadata": {},
   "outputs": [
    {
     "data": {
      "text/plain": [
       "PRT_ID            0\n",
       "AREA              0\n",
       "INT_SQFT          0\n",
       "DIST_MAINROAD     0\n",
       "N_BEDROOM         1\n",
       "N_BATHROOM        5\n",
       "N_ROOM            0\n",
       "SALE_COND         0\n",
       "PARK_FACIL        0\n",
       "BUILDTYPE         0\n",
       "UTILITY_AVAIL     0\n",
       "STREET            0\n",
       "MZZONE            0\n",
       "QS_ROOMS          0\n",
       "QS_BATHROOM       0\n",
       "QS_BEDROOM        0\n",
       "QS_OVERALL       48\n",
       "COMMIS            0\n",
       "SALES_PRICE       0\n",
       "dtype: int64"
      ]
     },
     "execution_count": 417,
     "metadata": {},
     "output_type": "execute_result"
    }
   ],
   "source": [
    "df.isnull().sum()"
   ]
  },
  {
   "cell_type": "markdown",
   "metadata": {},
   "source": [
    "N_BEDROOM         1\n",
    "N_BATHROOM        5\n",
    "QS_OVERALL       48"
   ]
  },
  {
   "cell_type": "code",
   "execution_count": 418,
   "metadata": {},
   "outputs": [],
   "source": [
    "temp = pd.DataFrame(index = df.columns)\n",
    "temp['data_type']=df.dtypes\n",
    "temp['null_count']=df.isnull().sum()\n",
    "temp[\"unique_count\"]=df.nunique()"
   ]
  },
  {
   "cell_type": "code",
   "execution_count": 419,
   "metadata": {},
   "outputs": [
    {
     "data": {
      "text/html": [
       "<div>\n",
       "<style scoped>\n",
       "    .dataframe tbody tr th:only-of-type {\n",
       "        vertical-align: middle;\n",
       "    }\n",
       "\n",
       "    .dataframe tbody tr th {\n",
       "        vertical-align: top;\n",
       "    }\n",
       "\n",
       "    .dataframe thead th {\n",
       "        text-align: right;\n",
       "    }\n",
       "</style>\n",
       "<table border=\"1\" class=\"dataframe\">\n",
       "  <thead>\n",
       "    <tr style=\"text-align: right;\">\n",
       "      <th></th>\n",
       "      <th>data_type</th>\n",
       "      <th>null_count</th>\n",
       "      <th>unique_count</th>\n",
       "    </tr>\n",
       "  </thead>\n",
       "  <tbody>\n",
       "    <tr>\n",
       "      <th>PRT_ID</th>\n",
       "      <td>object</td>\n",
       "      <td>0</td>\n",
       "      <td>7109</td>\n",
       "    </tr>\n",
       "    <tr>\n",
       "      <th>AREA</th>\n",
       "      <td>object</td>\n",
       "      <td>0</td>\n",
       "      <td>17</td>\n",
       "    </tr>\n",
       "    <tr>\n",
       "      <th>INT_SQFT</th>\n",
       "      <td>int64</td>\n",
       "      <td>0</td>\n",
       "      <td>1699</td>\n",
       "    </tr>\n",
       "    <tr>\n",
       "      <th>DIST_MAINROAD</th>\n",
       "      <td>int64</td>\n",
       "      <td>0</td>\n",
       "      <td>201</td>\n",
       "    </tr>\n",
       "    <tr>\n",
       "      <th>N_BEDROOM</th>\n",
       "      <td>float64</td>\n",
       "      <td>1</td>\n",
       "      <td>4</td>\n",
       "    </tr>\n",
       "    <tr>\n",
       "      <th>N_BATHROOM</th>\n",
       "      <td>float64</td>\n",
       "      <td>5</td>\n",
       "      <td>2</td>\n",
       "    </tr>\n",
       "    <tr>\n",
       "      <th>N_ROOM</th>\n",
       "      <td>int64</td>\n",
       "      <td>0</td>\n",
       "      <td>5</td>\n",
       "    </tr>\n",
       "    <tr>\n",
       "      <th>SALE_COND</th>\n",
       "      <td>object</td>\n",
       "      <td>0</td>\n",
       "      <td>9</td>\n",
       "    </tr>\n",
       "    <tr>\n",
       "      <th>PARK_FACIL</th>\n",
       "      <td>object</td>\n",
       "      <td>0</td>\n",
       "      <td>3</td>\n",
       "    </tr>\n",
       "    <tr>\n",
       "      <th>BUILDTYPE</th>\n",
       "      <td>object</td>\n",
       "      <td>0</td>\n",
       "      <td>5</td>\n",
       "    </tr>\n",
       "    <tr>\n",
       "      <th>UTILITY_AVAIL</th>\n",
       "      <td>object</td>\n",
       "      <td>0</td>\n",
       "      <td>5</td>\n",
       "    </tr>\n",
       "    <tr>\n",
       "      <th>STREET</th>\n",
       "      <td>object</td>\n",
       "      <td>0</td>\n",
       "      <td>5</td>\n",
       "    </tr>\n",
       "    <tr>\n",
       "      <th>MZZONE</th>\n",
       "      <td>object</td>\n",
       "      <td>0</td>\n",
       "      <td>6</td>\n",
       "    </tr>\n",
       "    <tr>\n",
       "      <th>QS_ROOMS</th>\n",
       "      <td>float64</td>\n",
       "      <td>0</td>\n",
       "      <td>31</td>\n",
       "    </tr>\n",
       "    <tr>\n",
       "      <th>QS_BATHROOM</th>\n",
       "      <td>float64</td>\n",
       "      <td>0</td>\n",
       "      <td>31</td>\n",
       "    </tr>\n",
       "    <tr>\n",
       "      <th>QS_BEDROOM</th>\n",
       "      <td>float64</td>\n",
       "      <td>0</td>\n",
       "      <td>31</td>\n",
       "    </tr>\n",
       "    <tr>\n",
       "      <th>QS_OVERALL</th>\n",
       "      <td>float64</td>\n",
       "      <td>48</td>\n",
       "      <td>479</td>\n",
       "    </tr>\n",
       "    <tr>\n",
       "      <th>COMMIS</th>\n",
       "      <td>int64</td>\n",
       "      <td>0</td>\n",
       "      <td>7011</td>\n",
       "    </tr>\n",
       "    <tr>\n",
       "      <th>SALES_PRICE</th>\n",
       "      <td>int64</td>\n",
       "      <td>0</td>\n",
       "      <td>7057</td>\n",
       "    </tr>\n",
       "  </tbody>\n",
       "</table>\n",
       "</div>"
      ],
      "text/plain": [
       "              data_type  null_count  unique_count\n",
       "PRT_ID           object           0          7109\n",
       "AREA             object           0            17\n",
       "INT_SQFT          int64           0          1699\n",
       "DIST_MAINROAD     int64           0           201\n",
       "N_BEDROOM       float64           1             4\n",
       "N_BATHROOM      float64           5             2\n",
       "N_ROOM            int64           0             5\n",
       "SALE_COND        object           0             9\n",
       "PARK_FACIL       object           0             3\n",
       "BUILDTYPE        object           0             5\n",
       "UTILITY_AVAIL    object           0             5\n",
       "STREET           object           0             5\n",
       "MZZONE           object           0             6\n",
       "QS_ROOMS        float64           0            31\n",
       "QS_BATHROOM     float64           0            31\n",
       "QS_BEDROOM      float64           0            31\n",
       "QS_OVERALL      float64          48           479\n",
       "COMMIS            int64           0          7011\n",
       "SALES_PRICE       int64           0          7057"
      ]
     },
     "execution_count": 419,
     "metadata": {},
     "output_type": "execute_result"
    }
   ],
   "source": [
    "temp"
   ]
  },
  {
   "cell_type": "markdown",
   "metadata": {},
   "source": [
    "# Univariate Analysis"
   ]
  },
  {
   "cell_type": "markdown",
   "metadata": {},
   "source": [
    "##  Continuous Variable"
   ]
  },
  {
   "cell_type": "code",
   "execution_count": 420,
   "metadata": {},
   "outputs": [
    {
     "data": {
      "text/plain": [
       "Text(0.5, 0, 'Price')"
      ]
     },
     "execution_count": 420,
     "metadata": {},
     "output_type": "execute_result"
    },
    {
     "data": {
      "image/png": "[encoded data removed]",
      "text/plain": [
       "<Figure size 432x288 with 1 Axes>"
      ]
     },
     "metadata": {
      "needs_background": "light"
     },
     "output_type": "display_data"
    }
   ],
   "source": [
    "df['SALES_PRICE'].plot(kind='hist',bins=50)  \n",
    "plt.xlabel('Price',fontsize=12)\n",
    "# Right skewed"
   ]
  },
  {
   "cell_type": "code",
   "execution_count": 421,
   "metadata": {},
   "outputs": [
    {
     "data": {
      "text/plain": [
       "(array([  2.,   6.,  18.,  26.,  40.,  68.,  79., 109., 130., 162., 214.,\n",
       "        241., 287., 314., 383., 371., 374., 396., 332., 321., 288., 276.,\n",
       "        264., 296., 288., 243., 249., 224., 162., 125.,  79.,  71.,  50.,\n",
       "         47.,  44.,  54.,  36.,  49.,  49.,  39.,  42.,  46.,  59.,  44.,\n",
       "         31.,  25.,  26.,  20.,   5.,   5.]),\n",
       " array([ 2156875. ,  2587084.3,  3017293.6,  3447502.9,  3877712.2,\n",
       "         4307921.5,  4738130.8,  5168340.1,  5598549.4,  6028758.7,\n",
       "         6458968. ,  6889177.3,  7319386.6,  7749595.9,  8179805.2,\n",
       "         8610014.5,  9040223.8,  9470433.1,  9900642.4, 10330851.7,\n",
       "        10761061. , 11191270.3, 11621479.6, 12051688.9, 12481898.2,\n",
       "        12912107.5, 13342316.8, 13772526.1, 14202735.4, 14632944.7,\n",
       "        15063154. , 15493363.3, 15923572.6, 16353781.9, 16783991.2,\n",
       "        17214200.5, 17644409.8, 18074619.1, 18504828.4, 18935037.7,\n",
       "        19365247. , 19795456.3, 20225665.6, 20655874.9, 21086084.2,\n",
       "        21516293.5, 21946502.8, 22376712.1, 22806921.4, 23237130.7,\n",
       "        23667340. ]),\n",
       " <a list of 50 Patch objects>)"
      ]
     },
     "execution_count": 421,
     "metadata": {},
     "output_type": "execute_result"
    },
    {
     "data": {
      "image/png": "[encoded data removed]",
      "text/plain": [
       "<Figure size 432x288 with 1 Axes>"
      ]
     },
     "metadata": {
      "needs_background": "light"
     },
     "output_type": "display_data"
    }
   ],
   "source": [
    "plt.hist(df['SALES_PRICE'],bins=50)"
   ]
  },
  {
   "cell_type": "markdown",
   "metadata": {},
   "source": [
    "df=df.astype({'N_BATHROOM':'int64'})\n",
    "              \n",
    "df['N_BATHROOM']             # at present there are missing values"
   ]
  },
  {
   "cell_type": "code",
   "execution_count": 422,
   "metadata": {},
   "outputs": [
    {
     "data": {
      "text/plain": [
       "Text(0.5, 0, 'price')"
      ]
     },
     "execution_count": 422,
     "metadata": {},
     "output_type": "execute_result"
    },
    {
     "data": {
      "image/png": "[encoded data removed]",
      "text/plain": [
       "<Figure size 432x288 with 1 Axes>"
      ]
     },
     "metadata": {
      "needs_background": "light"
     },
     "output_type": "display_data"
    }
   ],
   "source": [
    "(df['SALES_PRICE'].loc[df['SALES_PRICE']<18000000]).plot(kind='hist',bins=50,)     #  loc[]   with condition (bool op)\n",
    "plt.xlabel('price',fontsize=12)                                                  #  iloc[st:end,st:end]     rows,columns"
   ]
  },
  {
   "cell_type": "code",
   "execution_count": 423,
   "metadata": {},
   "outputs": [
    {
     "data": {
      "text/plain": [
       "Text(0.5, 0, 'Area in square feet')"
      ]
     },
     "execution_count": 423,
     "metadata": {},
     "output_type": "execute_result"
    },
    {
     "data": {
      "image/png": "[encoded data removed]",
      "text/plain": [
       "<Figure size 432x288 with 1 Axes>"
      ]
     },
     "metadata": {
      "needs_background": "light"
     },
     "output_type": "display_data"
    }
   ],
   "source": [
    "df['INT_SQFT'].plot(kind='hist',bins=50)\n",
    "plt.xlabel('Area in square feet',fontsize=12)"
   ]
  },
  {
   "cell_type": "markdown",
   "metadata": {},
   "source": [
    "__ most houses have an area in b/w 750 - 1250  and  1500 - 2000 __"
   ]
  },
  {
   "cell_type": "code",
   "execution_count": 424,
   "metadata": {},
   "outputs": [],
   "source": [
    "# sns.distplot(df['INT_SQFT'],bins=50,kde=False,axlabel='Area_in_SQ-feet')"
   ]
  },
  {
   "cell_type": "markdown",
   "metadata": {},
   "source": [
    "Most houses have area in b/w 750-1250 or 1500-2000 sq feet"
   ]
  },
  {
   "cell_type": "code",
   "execution_count": 425,
   "metadata": {},
   "outputs": [
    {
     "data": {
      "text/plain": [
       "Text(0, 0.5, 'Frequency')"
      ]
     },
     "execution_count": 425,
     "metadata": {},
     "output_type": "execute_result"
    },
    {
     "data": {
      "image/png": "[encoded data removed]",
      "text/plain": [
       "<Figure size 432x288 with 1 Axes>"
      ]
     },
     "metadata": {
      "needs_background": "light"
     },
     "output_type": "display_data"
    }
   ],
   "source": [
    "sns.distplot(df['COMMIS'],bins=50)\n",
    "plt.ylabel('Frequency',fontsize=12)"
   ]
  },
  {
   "cell_type": "code",
   "execution_count": 426,
   "metadata": {},
   "outputs": [
    {
     "data": {
      "text/plain": [
       "<matplotlib.axes._subplots.AxesSubplot at 0x1568f65fc08>"
      ]
     },
     "execution_count": 426,
     "metadata": {},
     "output_type": "execute_result"
    },
    {
     "data": {
      "image/png": "[encoded data removed]",
      "text/plain": [
       "<Figure size 432x288 with 1 Axes>"
      ]
     },
     "metadata": {
      "needs_background": "light"
     },
     "output_type": "display_data"
    }
   ],
   "source": [
    "sns.distplot(df['DIST_MAINROAD'])"
   ]
  },
  {
   "cell_type": "markdown",
   "metadata": {},
   "source": [
    "## Categorical Variables"
   ]
  },
  {
   "cell_type": "code",
   "execution_count": 427,
   "metadata": {},
   "outputs": [
    {
     "data": {
      "text/plain": [
       "1.0    3795\n",
       "2.0    2352\n",
       "3.0     707\n",
       "4.0     254\n",
       "Name: N_BEDROOM, dtype: int64"
      ]
     },
     "execution_count": 427,
     "metadata": {},
     "output_type": "execute_result"
    }
   ],
   "source": [
    "df['N_BEDROOM'].value_counts()"
   ]
  },
  {
   "cell_type": "markdown",
   "metadata": {},
   "source": [
    "IT should be object type ....but now it has missing values ::  later....astype()"
   ]
  },
  {
   "cell_type": "code",
   "execution_count": 428,
   "metadata": {},
   "outputs": [
    {
     "data": {
      "text/plain": [
       "1.0    53.383036\n",
       "2.0    33.084822\n",
       "3.0     9.945140\n",
       "4.0     3.572936\n",
       "Name: N_BEDROOM, dtype: float64"
      ]
     },
     "execution_count": 428,
     "metadata": {},
     "output_type": "execute_result"
    }
   ],
   "source": [
    "df['N_BEDROOM'].value_counts()/len(df)*100"
   ]
  },
  {
   "cell_type": "markdown",
   "metadata": {},
   "source": [
    "Most houses have 1 Bedroom"
   ]
  },
  {
   "cell_type": "code",
   "execution_count": 429,
   "metadata": {},
   "outputs": [],
   "source": [
    "#df['N_BEDROOM'].value_counts().plot(kind='bar')"
   ]
  },
  {
   "cell_type": "code",
   "execution_count": 430,
   "metadata": {},
   "outputs": [
    {
     "data": {
      "text/plain": [
       "1.0    78.618652\n",
       "2.0    21.311014\n",
       "Name: N_BATHROOM, dtype: float64"
      ]
     },
     "execution_count": 430,
     "metadata": {},
     "output_type": "execute_result"
    }
   ],
   "source": [
    "df['N_BATHROOM'].value_counts()/len(df)*100"
   ]
  },
  {
   "cell_type": "markdown",
   "metadata": {},
   "source": [
    "Most houses have 1 bathroom"
   ]
  },
  {
   "cell_type": "code",
   "execution_count": 431,
   "metadata": {},
   "outputs": [],
   "source": [
    "#df['N_BATHROOM'].value_counts().plot(kind='bar')"
   ]
  },
  {
   "cell_type": "markdown",
   "metadata": {},
   "source": [
    "\n",
    "## CHECKING FOR ERRONEOUS LABELS, MISSING VALUES FILLING\n"
   ]
  },
  {
   "cell_type": "code",
   "execution_count": 432,
   "metadata": {},
   "outputs": [
    {
     "data": {
      "text/plain": [
       "<matplotlib.axes._subplots.AxesSubplot at 0x1568f71c188>"
      ]
     },
     "execution_count": 432,
     "metadata": {},
     "output_type": "execute_result"
    },
    {
     "data": {
      "image/png": "[encoded data removed]",
      "text/plain": [
       "<Figure size 432x288 with 1 Axes>"
      ]
     },
     "metadata": {
      "needs_background": "light"
     },
     "output_type": "display_data"
    }
   ],
   "source": [
    "df['AREA'].value_counts().plot(kind='bar')"
   ]
  },
  {
   "cell_type": "code",
   "execution_count": 433,
   "metadata": {},
   "outputs": [
    {
     "data": {
      "text/plain": [
       "<matplotlib.axes._subplots.AxesSubplot at 0x1568f7c9f48>"
      ]
     },
     "execution_count": 433,
     "metadata": {},
     "output_type": "execute_result"
    },
    {
     "data": {
      "image/png": "[encoded data removed]",
      "text/plain": [
       "<Figure size 432x288 with 1 Axes>"
      ]
     },
     "metadata": {
      "needs_background": "light"
     },
     "output_type": "display_data"
    }
   ],
   "source": [
    "x={\"Chrompt\":\"Chrompet\",\"Chormpet\":\"Chrompet\",\"Chrmpet\":\"Chrompet\",\"TNagar\":\"T Nagar\",\"Ann Nagar\":\"Anna Nagar\",\\\n",
    "   \"Adyr\":\"Adyar\",\"KKNagar\":\"KK Nagar\",\"Velchery\":\"Velachery\",\"Karapakam\":\"Karapakkam\",\"Ana Nagar\":\"Anna Nagar\"}\n",
    "df['AREA'].replace(x, inplace=True)\n",
    "df[\"AREA\"].value_counts().plot(kind='bar',legend=True,color=['yellow','green','orange','cyan','blue','brown','pink'])\n",
    "                    "
   ]
  },
  {
   "cell_type": "code",
   "execution_count": 434,
   "metadata": {},
   "outputs": [
    {
     "data": {
      "text/plain": [
       "<matplotlib.axes._subplots.AxesSubplot at 0x1568f82f048>"
      ]
     },
     "execution_count": 434,
     "metadata": {},
     "output_type": "execute_result"
    },
    {
     "data": {
      "image/png": "[encoded data removed]",
      "text/plain": [
       "<Figure size 432x288 with 1 Axes>"
      ]
     },
     "metadata": {
      "needs_background": "light"
     },
     "output_type": "display_data"
    }
   ],
   "source": [
    "df['N_ROOM'].value_counts().plot(kind='bar',color=['orange','red','green','yellow','blue'])"
   ]
  },
  {
   "cell_type": "code",
   "execution_count": 435,
   "metadata": {},
   "outputs": [
    {
     "data": {
      "text/plain": [
       "Text(0.5, 0, 'Strret Type')"
      ]
     },
     "execution_count": 435,
     "metadata": {},
     "output_type": "execute_result"
    },
    {
     "data": {
      "image/png": "[encoded data removed]",
      "text/plain": [
       "<Figure size 432x288 with 1 Axes>"
      ]
     },
     "metadata": {
      "needs_background": "light"
     },
     "output_type": "display_data"
    }
   ],
   "source": [
    "df['STREET'].value_counts().plot(kind='bar',color=['orange','red','green','yellow','cyan'])\n",
    "plt.xlabel('Strret Type',fontsize=12)"
   ]
  },
  {
   "cell_type": "code",
   "execution_count": 436,
   "metadata": {},
   "outputs": [
    {
     "data": {
      "text/plain": [
       "<matplotlib.axes._subplots.AxesSubplot at 0x1568f910b88>"
      ]
     },
     "execution_count": 436,
     "metadata": {},
     "output_type": "execute_result"
    },
    {
     "data": {
      "image/png": "[encoded data removed]",
      "text/plain": [
       "<Figure size 432x288 with 1 Axes>"
      ]
     },
     "metadata": {
      "needs_background": "light"
     },
     "output_type": "display_data"
    }
   ],
   "source": [
    "df['STREET'].replace({'Pavd':'Paved','NoAccess':'No Access'},inplace=True)\n",
    "df['STREET'].value_counts().plot(kind='bar',color=['orange','red','green','yellow','blue'])"
   ]
  },
  {
   "cell_type": "code",
   "execution_count": 437,
   "metadata": {},
   "outputs": [
    {
     "data": {
      "text/plain": [
       "Yes    3587\n",
       "No     3522\n",
       "Name: PARK_FACIL, dtype: int64"
      ]
     },
     "execution_count": 437,
     "metadata": {},
     "output_type": "execute_result"
    }
   ],
   "source": [
    "df['PARK_FACIL'].replace({'Noo':'No'}, inplace = True)\n",
    "df['PARK_FACIL'].value_counts()"
   ]
  },
  {
   "cell_type": "markdown",
   "metadata": {},
   "source": [
    "## CHECKING LABEL NAMES (correction done fr Area,parkfacil,street)\n",
    "- Better to use this method (BELOW) to find errors in labels than doing graphs one by one"
   ]
  },
  {
   "cell_type": "code",
   "execution_count": 438,
   "metadata": {},
   "outputs": [
    {
     "name": "stdout",
     "output_type": "stream",
     "text": [
      "************ Value Count in AREA ************\n",
      "Chrompet      1702\n",
      "Karapakkam    1366\n",
      "KK Nagar       997\n",
      "Velachery      981\n",
      "Anna Nagar     788\n",
      "Adyar          774\n",
      "T Nagar        501\n",
      "Name: AREA, dtype: int64\n",
      "\n",
      "************ Value Count in N_BEDROOM ************\n",
      "1.0    3795\n",
      "2.0    2352\n",
      "3.0     707\n",
      "4.0     254\n",
      "Name: N_BEDROOM, dtype: int64\n",
      "\n",
      "************ Value Count in N_BATHROOM ************\n",
      "1.0    5589\n",
      "2.0    1515\n",
      "Name: N_BATHROOM, dtype: int64\n",
      "\n",
      "************ Value Count in N_ROOM ************\n",
      "4    2563\n",
      "3    2125\n",
      "5    1246\n",
      "2     921\n",
      "6     254\n",
      "Name: N_ROOM, dtype: int64\n",
      "\n",
      "************ Value Count in SALE_COND ************\n",
      "AdjLand        1433\n",
      "Partial        1429\n",
      "Normal Sale    1423\n",
      "AbNormal       1406\n",
      "Family         1403\n",
      "Adj Land          6\n",
      "Ab Normal         5\n",
      "Partiall          3\n",
      "PartiaLl          1\n",
      "Name: SALE_COND, dtype: int64\n",
      "\n",
      "************ Value Count in PARK_FACIL ************\n",
      "Yes    3587\n",
      "No     3522\n",
      "Name: PARK_FACIL, dtype: int64\n",
      "\n",
      "************ Value Count in BUILDTYPE ************\n",
      "House         2444\n",
      "Commercial    2325\n",
      "Others        2310\n",
      "Other           26\n",
      "Comercial        4\n",
      "Name: BUILDTYPE, dtype: int64\n",
      "\n",
      "************ Value Count in UTILITY_AVAIL ************\n",
      "AllPub     1886\n",
      "NoSeWa     1871\n",
      "NoSewr     1829\n",
      "ELO        1522\n",
      "All Pub       1\n",
      "Name: UTILITY_AVAIL, dtype: int64\n",
      "\n",
      "************ Value Count in STREET ************\n",
      "Paved        2572\n",
      "Gravel       2520\n",
      "No Access    2017\n",
      "Name: STREET, dtype: int64\n",
      "\n",
      "************ Value Count in MZZONE ************\n",
      "RL    1858\n",
      "RH    1822\n",
      "RM    1817\n",
      "C      550\n",
      "A      537\n",
      "I      525\n",
      "Name: MZZONE, dtype: int64\n",
      "\n"
     ]
    }
   ],
   "source": [
    "temp = ['AREA','N_BEDROOM','N_BATHROOM','N_ROOM','SALE_COND','PARK_FACIL','BUILDTYPE','UTILITY_AVAIL','STREET','MZZONE']\n",
    "for i in temp:\n",
    "    print('************ Value Count in', i, '************')\n",
    "    print(df[i].value_counts())\n",
    "    print('')"
   ]
  },
  {
   "cell_type": "markdown",
   "metadata": {},
   "source": [
    "**Update names in column**\n",
    "- SALE_COND\n",
    "- BUILDTYPE\n",
    "- UTILITY_AVAIL"
   ]
  },
  {
   "cell_type": "markdown",
   "metadata": {},
   "source": [
    "**1.SALE_COND**"
   ]
  },
  {
   "cell_type": "code",
   "execution_count": 439,
   "metadata": {},
   "outputs": [
    {
     "data": {
      "text/plain": [
       "AdjLand        1439\n",
       "Partial        1433\n",
       "Normal Sale    1423\n",
       "AbNormal       1411\n",
       "Family         1403\n",
       "Name: SALE_COND, dtype: int64"
      ]
     },
     "execution_count": 439,
     "metadata": {},
     "output_type": "execute_result"
    }
   ],
   "source": [
    "df['SALE_COND'].replace({'PartiaLl':'Partial', 'Partiall': 'Partial', \n",
    "                         'Adj Land': 'AdjLand',  \n",
    "                         'Ab Normal': 'AbNormal'}, inplace = True)\n",
    "df['SALE_COND'].value_counts()"
   ]
  },
  {
   "cell_type": "markdown",
   "metadata": {},
   "source": [
    "**2.BUILDTYPE , 3.UTILITY_AVAIL**"
   ]
  },
  {
   "cell_type": "code",
   "execution_count": 440,
   "metadata": {},
   "outputs": [],
   "source": [
    "df['BUILDTYPE'].replace({'Comercial':'Commercial', 'Other': 'Others'},inplace = True)\n",
    "df['UTILITY_AVAIL'].replace({'All Pub':'AllPub'},inplace = True)"
   ]
  },
  {
   "cell_type": "markdown",
   "metadata": {},
   "source": [
    "### ALL LABEL CORRECTION DONE ..."
   ]
  },
  {
   "cell_type": "markdown",
   "metadata": {},
   "source": [
    "### Now checking missing values and datatype correction"
   ]
  },
  {
   "cell_type": "code",
   "execution_count": 441,
   "metadata": {},
   "outputs": [],
   "source": [
    "temp = pd.DataFrame(index = df.columns)\n",
    "temp['data_type']=df.dtypes\n",
    "temp['null_count']=df.isnull().sum()\n",
    "temp[\"unique_count\"]=df.nunique() "
   ]
  },
  {
   "cell_type": "code",
   "execution_count": 442,
   "metadata": {},
   "outputs": [
    {
     "data": {
      "text/html": [
       "<div>\n",
       "<style scoped>\n",
       "    .dataframe tbody tr th:only-of-type {\n",
       "        vertical-align: middle;\n",
       "    }\n",
       "\n",
       "    .dataframe tbody tr th {\n",
       "        vertical-align: top;\n",
       "    }\n",
       "\n",
       "    .dataframe thead th {\n",
       "        text-align: right;\n",
       "    }\n",
       "</style>\n",
       "<table border=\"1\" class=\"dataframe\">\n",
       "  <thead>\n",
       "    <tr style=\"text-align: right;\">\n",
       "      <th></th>\n",
       "      <th>data_type</th>\n",
       "      <th>null_count</th>\n",
       "      <th>unique_count</th>\n",
       "    </tr>\n",
       "  </thead>\n",
       "  <tbody>\n",
       "    <tr>\n",
       "      <th>PRT_ID</th>\n",
       "      <td>object</td>\n",
       "      <td>0</td>\n",
       "      <td>7109</td>\n",
       "    </tr>\n",
       "    <tr>\n",
       "      <th>AREA</th>\n",
       "      <td>object</td>\n",
       "      <td>0</td>\n",
       "      <td>7</td>\n",
       "    </tr>\n",
       "    <tr>\n",
       "      <th>INT_SQFT</th>\n",
       "      <td>int64</td>\n",
       "      <td>0</td>\n",
       "      <td>1699</td>\n",
       "    </tr>\n",
       "    <tr>\n",
       "      <th>DIST_MAINROAD</th>\n",
       "      <td>int64</td>\n",
       "      <td>0</td>\n",
       "      <td>201</td>\n",
       "    </tr>\n",
       "    <tr>\n",
       "      <th>N_BEDROOM</th>\n",
       "      <td>float64</td>\n",
       "      <td>1</td>\n",
       "      <td>4</td>\n",
       "    </tr>\n",
       "    <tr>\n",
       "      <th>N_BATHROOM</th>\n",
       "      <td>float64</td>\n",
       "      <td>5</td>\n",
       "      <td>2</td>\n",
       "    </tr>\n",
       "    <tr>\n",
       "      <th>N_ROOM</th>\n",
       "      <td>int64</td>\n",
       "      <td>0</td>\n",
       "      <td>5</td>\n",
       "    </tr>\n",
       "    <tr>\n",
       "      <th>SALE_COND</th>\n",
       "      <td>object</td>\n",
       "      <td>0</td>\n",
       "      <td>5</td>\n",
       "    </tr>\n",
       "    <tr>\n",
       "      <th>PARK_FACIL</th>\n",
       "      <td>object</td>\n",
       "      <td>0</td>\n",
       "      <td>2</td>\n",
       "    </tr>\n",
       "    <tr>\n",
       "      <th>BUILDTYPE</th>\n",
       "      <td>object</td>\n",
       "      <td>0</td>\n",
       "      <td>3</td>\n",
       "    </tr>\n",
       "    <tr>\n",
       "      <th>UTILITY_AVAIL</th>\n",
       "      <td>object</td>\n",
       "      <td>0</td>\n",
       "      <td>4</td>\n",
       "    </tr>\n",
       "    <tr>\n",
       "      <th>STREET</th>\n",
       "      <td>object</td>\n",
       "      <td>0</td>\n",
       "      <td>3</td>\n",
       "    </tr>\n",
       "    <tr>\n",
       "      <th>MZZONE</th>\n",
       "      <td>object</td>\n",
       "      <td>0</td>\n",
       "      <td>6</td>\n",
       "    </tr>\n",
       "    <tr>\n",
       "      <th>QS_ROOMS</th>\n",
       "      <td>float64</td>\n",
       "      <td>0</td>\n",
       "      <td>31</td>\n",
       "    </tr>\n",
       "    <tr>\n",
       "      <th>QS_BATHROOM</th>\n",
       "      <td>float64</td>\n",
       "      <td>0</td>\n",
       "      <td>31</td>\n",
       "    </tr>\n",
       "    <tr>\n",
       "      <th>QS_BEDROOM</th>\n",
       "      <td>float64</td>\n",
       "      <td>0</td>\n",
       "      <td>31</td>\n",
       "    </tr>\n",
       "    <tr>\n",
       "      <th>QS_OVERALL</th>\n",
       "      <td>float64</td>\n",
       "      <td>48</td>\n",
       "      <td>479</td>\n",
       "    </tr>\n",
       "    <tr>\n",
       "      <th>COMMIS</th>\n",
       "      <td>int64</td>\n",
       "      <td>0</td>\n",
       "      <td>7011</td>\n",
       "    </tr>\n",
       "    <tr>\n",
       "      <th>SALES_PRICE</th>\n",
       "      <td>int64</td>\n",
       "      <td>0</td>\n",
       "      <td>7057</td>\n",
       "    </tr>\n",
       "  </tbody>\n",
       "</table>\n",
       "</div>"
      ],
      "text/plain": [
       "              data_type  null_count  unique_count\n",
       "PRT_ID           object           0          7109\n",
       "AREA             object           0             7\n",
       "INT_SQFT          int64           0          1699\n",
       "DIST_MAINROAD     int64           0           201\n",
       "N_BEDROOM       float64           1             4\n",
       "N_BATHROOM      float64           5             2\n",
       "N_ROOM            int64           0             5\n",
       "SALE_COND        object           0             5\n",
       "PARK_FACIL       object           0             2\n",
       "BUILDTYPE        object           0             3\n",
       "UTILITY_AVAIL    object           0             4\n",
       "STREET           object           0             3\n",
       "MZZONE           object           0             6\n",
       "QS_ROOMS        float64           0            31\n",
       "QS_BATHROOM     float64           0            31\n",
       "QS_BEDROOM      float64           0            31\n",
       "QS_OVERALL      float64          48           479\n",
       "COMMIS            int64           0          7011\n",
       "SALES_PRICE       int64           0          7057"
      ]
     },
     "execution_count": 442,
     "metadata": {},
     "output_type": "execute_result"
    }
   ],
   "source": [
    "temp"
   ]
  },
  {
   "cell_type": "markdown",
   "metadata": {},
   "source": [
    "### Need to cnvrt N_BEDROOM,N_BATHROOM,N_ROOM to obj data type"
   ]
  },
  {
   "cell_type": "markdown",
   "metadata": {},
   "source": [
    "### Need to fill N_BEDROOM................N_BATHROOM.................QS_OVERALL       "
   ]
  },
  {
   "cell_type": "raw",
   "metadata": {},
   "source": [
    "WAYS TO FILL MISSING VALUES\n",
    "\n",
    " . delete  the  row / column .... Too much data loss only do when entire row is missing or entire column is missing\n",
    " . Mean / Mode\n",
    " . Using other independent variables"
   ]
  },
  {
   "cell_type": "markdown",
   "metadata": {},
   "source": [
    "**Filling no of Bedrooms and Bathrooms**"
   ]
  },
  {
   "cell_type": "code",
   "execution_count": 443,
   "metadata": {
    "scrolled": true
   },
   "outputs": [
    {
     "data": {
      "text/html": [
       "<div>\n",
       "<style scoped>\n",
       "    .dataframe tbody tr th:only-of-type {\n",
       "        vertical-align: middle;\n",
       "    }\n",
       "\n",
       "    .dataframe tbody tr th {\n",
       "        vertical-align: top;\n",
       "    }\n",
       "\n",
       "    .dataframe thead th {\n",
       "        text-align: right;\n",
       "    }\n",
       "</style>\n",
       "<table border=\"1\" class=\"dataframe\">\n",
       "  <thead>\n",
       "    <tr style=\"text-align: right;\">\n",
       "      <th></th>\n",
       "      <th>PRT_ID</th>\n",
       "      <th>AREA</th>\n",
       "      <th>INT_SQFT</th>\n",
       "      <th>DIST_MAINROAD</th>\n",
       "      <th>N_BEDROOM</th>\n",
       "      <th>N_BATHROOM</th>\n",
       "      <th>N_ROOM</th>\n",
       "      <th>SALE_COND</th>\n",
       "      <th>PARK_FACIL</th>\n",
       "      <th>BUILDTYPE</th>\n",
       "      <th>UTILITY_AVAIL</th>\n",
       "      <th>STREET</th>\n",
       "      <th>MZZONE</th>\n",
       "      <th>QS_ROOMS</th>\n",
       "      <th>QS_BATHROOM</th>\n",
       "      <th>QS_BEDROOM</th>\n",
       "      <th>QS_OVERALL</th>\n",
       "      <th>COMMIS</th>\n",
       "      <th>SALES_PRICE</th>\n",
       "    </tr>\n",
       "  </thead>\n",
       "  <tbody>\n",
       "    <tr>\n",
       "      <th>0</th>\n",
       "      <td>P03210</td>\n",
       "      <td>Karapakkam</td>\n",
       "      <td>1004</td>\n",
       "      <td>131</td>\n",
       "      <td>1.0</td>\n",
       "      <td>1.0</td>\n",
       "      <td>3</td>\n",
       "      <td>AbNormal</td>\n",
       "      <td>Yes</td>\n",
       "      <td>Commercial</td>\n",
       "      <td>AllPub</td>\n",
       "      <td>Paved</td>\n",
       "      <td>A</td>\n",
       "      <td>4.0</td>\n",
       "      <td>3.9</td>\n",
       "      <td>4.9</td>\n",
       "      <td>4.330</td>\n",
       "      <td>144400</td>\n",
       "      <td>7600000</td>\n",
       "    </tr>\n",
       "    <tr>\n",
       "      <th>1</th>\n",
       "      <td>P09411</td>\n",
       "      <td>Anna Nagar</td>\n",
       "      <td>1986</td>\n",
       "      <td>26</td>\n",
       "      <td>2.0</td>\n",
       "      <td>1.0</td>\n",
       "      <td>5</td>\n",
       "      <td>AbNormal</td>\n",
       "      <td>No</td>\n",
       "      <td>Commercial</td>\n",
       "      <td>AllPub</td>\n",
       "      <td>Gravel</td>\n",
       "      <td>RH</td>\n",
       "      <td>4.9</td>\n",
       "      <td>4.2</td>\n",
       "      <td>2.5</td>\n",
       "      <td>3.765</td>\n",
       "      <td>304049</td>\n",
       "      <td>21717770</td>\n",
       "    </tr>\n",
       "    <tr>\n",
       "      <th>2</th>\n",
       "      <td>P01812</td>\n",
       "      <td>Adyar</td>\n",
       "      <td>909</td>\n",
       "      <td>70</td>\n",
       "      <td>1.0</td>\n",
       "      <td>1.0</td>\n",
       "      <td>3</td>\n",
       "      <td>AbNormal</td>\n",
       "      <td>Yes</td>\n",
       "      <td>Commercial</td>\n",
       "      <td>ELO</td>\n",
       "      <td>Gravel</td>\n",
       "      <td>RL</td>\n",
       "      <td>4.1</td>\n",
       "      <td>3.8</td>\n",
       "      <td>2.2</td>\n",
       "      <td>3.090</td>\n",
       "      <td>92114</td>\n",
       "      <td>13159200</td>\n",
       "    </tr>\n",
       "    <tr>\n",
       "      <th>3</th>\n",
       "      <td>P05346</td>\n",
       "      <td>Velachery</td>\n",
       "      <td>1855</td>\n",
       "      <td>14</td>\n",
       "      <td>3.0</td>\n",
       "      <td>2.0</td>\n",
       "      <td>5</td>\n",
       "      <td>Family</td>\n",
       "      <td>No</td>\n",
       "      <td>Others</td>\n",
       "      <td>NoSewr</td>\n",
       "      <td>Paved</td>\n",
       "      <td>I</td>\n",
       "      <td>4.7</td>\n",
       "      <td>3.9</td>\n",
       "      <td>3.6</td>\n",
       "      <td>4.010</td>\n",
       "      <td>77042</td>\n",
       "      <td>9630290</td>\n",
       "    </tr>\n",
       "    <tr>\n",
       "      <th>4</th>\n",
       "      <td>P06210</td>\n",
       "      <td>Karapakkam</td>\n",
       "      <td>1226</td>\n",
       "      <td>84</td>\n",
       "      <td>1.0</td>\n",
       "      <td>1.0</td>\n",
       "      <td>3</td>\n",
       "      <td>AbNormal</td>\n",
       "      <td>Yes</td>\n",
       "      <td>Others</td>\n",
       "      <td>AllPub</td>\n",
       "      <td>Gravel</td>\n",
       "      <td>C</td>\n",
       "      <td>3.0</td>\n",
       "      <td>2.5</td>\n",
       "      <td>4.1</td>\n",
       "      <td>3.290</td>\n",
       "      <td>74063</td>\n",
       "      <td>7406250</td>\n",
       "    </tr>\n",
       "    <tr>\n",
       "      <th>5</th>\n",
       "      <td>P00219</td>\n",
       "      <td>Chrompet</td>\n",
       "      <td>1220</td>\n",
       "      <td>36</td>\n",
       "      <td>2.0</td>\n",
       "      <td>1.0</td>\n",
       "      <td>4</td>\n",
       "      <td>Partial</td>\n",
       "      <td>No</td>\n",
       "      <td>Commercial</td>\n",
       "      <td>NoSeWa</td>\n",
       "      <td>No Access</td>\n",
       "      <td>RH</td>\n",
       "      <td>4.5</td>\n",
       "      <td>2.6</td>\n",
       "      <td>3.1</td>\n",
       "      <td>3.320</td>\n",
       "      <td>198316</td>\n",
       "      <td>12394750</td>\n",
       "    </tr>\n",
       "    <tr>\n",
       "      <th>6</th>\n",
       "      <td>P09105</td>\n",
       "      <td>Chrompet</td>\n",
       "      <td>1167</td>\n",
       "      <td>137</td>\n",
       "      <td>1.0</td>\n",
       "      <td>1.0</td>\n",
       "      <td>3</td>\n",
       "      <td>Partial</td>\n",
       "      <td>No</td>\n",
       "      <td>Others</td>\n",
       "      <td>AllPub</td>\n",
       "      <td>No Access</td>\n",
       "      <td>RL</td>\n",
       "      <td>3.6</td>\n",
       "      <td>2.1</td>\n",
       "      <td>2.5</td>\n",
       "      <td>2.670</td>\n",
       "      <td>33955</td>\n",
       "      <td>8488790</td>\n",
       "    </tr>\n",
       "    <tr>\n",
       "      <th>7</th>\n",
       "      <td>P09679</td>\n",
       "      <td>Velachery</td>\n",
       "      <td>1847</td>\n",
       "      <td>176</td>\n",
       "      <td>3.0</td>\n",
       "      <td>2.0</td>\n",
       "      <td>5</td>\n",
       "      <td>Family</td>\n",
       "      <td>No</td>\n",
       "      <td>Commercial</td>\n",
       "      <td>AllPub</td>\n",
       "      <td>Gravel</td>\n",
       "      <td>RM</td>\n",
       "      <td>2.4</td>\n",
       "      <td>4.5</td>\n",
       "      <td>2.1</td>\n",
       "      <td>3.260</td>\n",
       "      <td>235204</td>\n",
       "      <td>16800250</td>\n",
       "    </tr>\n",
       "    <tr>\n",
       "      <th>8</th>\n",
       "      <td>P03377</td>\n",
       "      <td>Chrompet</td>\n",
       "      <td>771</td>\n",
       "      <td>175</td>\n",
       "      <td>1.0</td>\n",
       "      <td>1.0</td>\n",
       "      <td>2</td>\n",
       "      <td>AdjLand</td>\n",
       "      <td>No</td>\n",
       "      <td>Others</td>\n",
       "      <td>NoSewr</td>\n",
       "      <td>Paved</td>\n",
       "      <td>RM</td>\n",
       "      <td>2.9</td>\n",
       "      <td>3.7</td>\n",
       "      <td>4.0</td>\n",
       "      <td>3.550</td>\n",
       "      <td>33236</td>\n",
       "      <td>8308970</td>\n",
       "    </tr>\n",
       "    <tr>\n",
       "      <th>9</th>\n",
       "      <td>P09623</td>\n",
       "      <td>Velachery</td>\n",
       "      <td>1635</td>\n",
       "      <td>74</td>\n",
       "      <td>2.0</td>\n",
       "      <td>1.0</td>\n",
       "      <td>4</td>\n",
       "      <td>AbNormal</td>\n",
       "      <td>No</td>\n",
       "      <td>Others</td>\n",
       "      <td>ELO</td>\n",
       "      <td>No Access</td>\n",
       "      <td>I</td>\n",
       "      <td>3.1</td>\n",
       "      <td>3.1</td>\n",
       "      <td>3.3</td>\n",
       "      <td>3.160</td>\n",
       "      <td>121255</td>\n",
       "      <td>8083650</td>\n",
       "    </tr>\n",
       "    <tr>\n",
       "      <th>10</th>\n",
       "      <td>P09540</td>\n",
       "      <td>Chrompet</td>\n",
       "      <td>1203</td>\n",
       "      <td>78</td>\n",
       "      <td>2.0</td>\n",
       "      <td>1.0</td>\n",
       "      <td>4</td>\n",
       "      <td>AdjLand</td>\n",
       "      <td>Yes</td>\n",
       "      <td>Commercial</td>\n",
       "      <td>AllPub</td>\n",
       "      <td>No Access</td>\n",
       "      <td>RM</td>\n",
       "      <td>4.0</td>\n",
       "      <td>3.2</td>\n",
       "      <td>4.5</td>\n",
       "      <td>3.830</td>\n",
       "      <td>119504</td>\n",
       "      <td>14938000</td>\n",
       "    </tr>\n",
       "    <tr>\n",
       "      <th>11</th>\n",
       "      <td>P07121</td>\n",
       "      <td>Chrompet</td>\n",
       "      <td>1054</td>\n",
       "      <td>143</td>\n",
       "      <td>1.0</td>\n",
       "      <td>1.0</td>\n",
       "      <td>3</td>\n",
       "      <td>Partial</td>\n",
       "      <td>No</td>\n",
       "      <td>Others</td>\n",
       "      <td>NoSewr</td>\n",
       "      <td>Gravel</td>\n",
       "      <td>RM</td>\n",
       "      <td>2.2</td>\n",
       "      <td>3.1</td>\n",
       "      <td>3.3</td>\n",
       "      <td>2.890</td>\n",
       "      <td>141746</td>\n",
       "      <td>9449730</td>\n",
       "    </tr>\n",
       "    <tr>\n",
       "      <th>12</th>\n",
       "      <td>P05512</td>\n",
       "      <td>Chrompet</td>\n",
       "      <td>1196</td>\n",
       "      <td>137</td>\n",
       "      <td>1.0</td>\n",
       "      <td>1.0</td>\n",
       "      <td>3</td>\n",
       "      <td>Family</td>\n",
       "      <td>No</td>\n",
       "      <td>Others</td>\n",
       "      <td>NoSewr</td>\n",
       "      <td>No Access</td>\n",
       "      <td>RL</td>\n",
       "      <td>2.1</td>\n",
       "      <td>2.5</td>\n",
       "      <td>2.1</td>\n",
       "      <td>2.260</td>\n",
       "      <td>35097</td>\n",
       "      <td>8774370</td>\n",
       "    </tr>\n",
       "    <tr>\n",
       "      <th>13</th>\n",
       "      <td>P09370</td>\n",
       "      <td>Adyar</td>\n",
       "      <td>1056</td>\n",
       "      <td>83</td>\n",
       "      <td>1.0</td>\n",
       "      <td>1.0</td>\n",
       "      <td>3</td>\n",
       "      <td>Partial</td>\n",
       "      <td>Yes</td>\n",
       "      <td>Others</td>\n",
       "      <td>NoSewr</td>\n",
       "      <td>Paved</td>\n",
       "      <td>RH</td>\n",
       "      <td>2.2</td>\n",
       "      <td>3.4</td>\n",
       "      <td>3.7</td>\n",
       "      <td>3.190</td>\n",
       "      <td>37546</td>\n",
       "      <td>9386490</td>\n",
       "    </tr>\n",
       "    <tr>\n",
       "      <th>14</th>\n",
       "      <td>P04085</td>\n",
       "      <td>Velachery</td>\n",
       "      <td>1865</td>\n",
       "      <td>157</td>\n",
       "      <td>3.0</td>\n",
       "      <td>2.0</td>\n",
       "      <td>5</td>\n",
       "      <td>Family</td>\n",
       "      <td>No</td>\n",
       "      <td>Commercial</td>\n",
       "      <td>NoSewr</td>\n",
       "      <td>Paved</td>\n",
       "      <td>RM</td>\n",
       "      <td>4.8</td>\n",
       "      <td>2.2</td>\n",
       "      <td>4.9</td>\n",
       "      <td>3.660</td>\n",
       "      <td>294494</td>\n",
       "      <td>15499680</td>\n",
       "    </tr>\n",
       "    <tr>\n",
       "      <th>15</th>\n",
       "      <td>P06328</td>\n",
       "      <td>Velachery</td>\n",
       "      <td>1868</td>\n",
       "      <td>148</td>\n",
       "      <td>3.0</td>\n",
       "      <td>2.0</td>\n",
       "      <td>5</td>\n",
       "      <td>Family</td>\n",
       "      <td>No</td>\n",
       "      <td>Commercial</td>\n",
       "      <td>NoSewr</td>\n",
       "      <td>Gravel</td>\n",
       "      <td>RH</td>\n",
       "      <td>3.8</td>\n",
       "      <td>3.8</td>\n",
       "      <td>3.1</td>\n",
       "      <td>NaN</td>\n",
       "      <td>188569</td>\n",
       "      <td>15714080</td>\n",
       "    </tr>\n",
       "    <tr>\n",
       "      <th>16</th>\n",
       "      <td>P06039</td>\n",
       "      <td>Karapakkam</td>\n",
       "      <td>1639</td>\n",
       "      <td>175</td>\n",
       "      <td>2.0</td>\n",
       "      <td>2.0</td>\n",
       "      <td>4</td>\n",
       "      <td>Normal Sale</td>\n",
       "      <td>Yes</td>\n",
       "      <td>House</td>\n",
       "      <td>ELO</td>\n",
       "      <td>Gravel</td>\n",
       "      <td>I</td>\n",
       "      <td>2.3</td>\n",
       "      <td>3.2</td>\n",
       "      <td>4.8</td>\n",
       "      <td>3.570</td>\n",
       "      <td>77904</td>\n",
       "      <td>8656000</td>\n",
       "    </tr>\n",
       "    <tr>\n",
       "      <th>17</th>\n",
       "      <td>P02016</td>\n",
       "      <td>Chrompet</td>\n",
       "      <td>796</td>\n",
       "      <td>134</td>\n",
       "      <td>1.0</td>\n",
       "      <td>1.0</td>\n",
       "      <td>2</td>\n",
       "      <td>AdjLand</td>\n",
       "      <td>Yes</td>\n",
       "      <td>Commercial</td>\n",
       "      <td>AllPub</td>\n",
       "      <td>No Access</td>\n",
       "      <td>RL</td>\n",
       "      <td>3.5</td>\n",
       "      <td>4.6</td>\n",
       "      <td>4.7</td>\n",
       "      <td>4.300</td>\n",
       "      <td>130951</td>\n",
       "      <td>10912550</td>\n",
       "    </tr>\n",
       "    <tr>\n",
       "      <th>18</th>\n",
       "      <td>P08160</td>\n",
       "      <td>Adyar</td>\n",
       "      <td>1136</td>\n",
       "      <td>69</td>\n",
       "      <td>1.0</td>\n",
       "      <td>1.0</td>\n",
       "      <td>3</td>\n",
       "      <td>Normal Sale</td>\n",
       "      <td>Yes</td>\n",
       "      <td>Others</td>\n",
       "      <td>AllPub</td>\n",
       "      <td>Paved</td>\n",
       "      <td>A</td>\n",
       "      <td>4.6</td>\n",
       "      <td>2.6</td>\n",
       "      <td>2.9</td>\n",
       "      <td>3.350</td>\n",
       "      <td>49725</td>\n",
       "      <td>8287550</td>\n",
       "    </tr>\n",
       "    <tr>\n",
       "      <th>19</th>\n",
       "      <td>P01372</td>\n",
       "      <td>Anna Nagar</td>\n",
       "      <td>1902</td>\n",
       "      <td>168</td>\n",
       "      <td>2.0</td>\n",
       "      <td>1.0</td>\n",
       "      <td>5</td>\n",
       "      <td>Family</td>\n",
       "      <td>Yes</td>\n",
       "      <td>Commercial</td>\n",
       "      <td>ELO</td>\n",
       "      <td>Paved</td>\n",
       "      <td>RL</td>\n",
       "      <td>4.5</td>\n",
       "      <td>4.9</td>\n",
       "      <td>4.9</td>\n",
       "      <td>4.760</td>\n",
       "      <td>212032</td>\n",
       "      <td>21203240</td>\n",
       "    </tr>\n",
       "    <tr>\n",
       "      <th>20</th>\n",
       "      <td>P00936</td>\n",
       "      <td>Chrompet</td>\n",
       "      <td>1069</td>\n",
       "      <td>53</td>\n",
       "      <td>1.0</td>\n",
       "      <td>1.0</td>\n",
       "      <td>3</td>\n",
       "      <td>AbNormal</td>\n",
       "      <td>Yes</td>\n",
       "      <td>Others</td>\n",
       "      <td>NoSewr</td>\n",
       "      <td>Paved</td>\n",
       "      <td>RM</td>\n",
       "      <td>2.8</td>\n",
       "      <td>2.7</td>\n",
       "      <td>4.9</td>\n",
       "      <td>3.390</td>\n",
       "      <td>43622</td>\n",
       "      <td>10905530</td>\n",
       "    </tr>\n",
       "    <tr>\n",
       "      <th>21</th>\n",
       "      <td>P07346</td>\n",
       "      <td>Chrompet</td>\n",
       "      <td>931</td>\n",
       "      <td>96</td>\n",
       "      <td>1.0</td>\n",
       "      <td>1.0</td>\n",
       "      <td>3</td>\n",
       "      <td>AbNormal</td>\n",
       "      <td>Yes</td>\n",
       "      <td>Others</td>\n",
       "      <td>ELO</td>\n",
       "      <td>Paved</td>\n",
       "      <td>RL</td>\n",
       "      <td>4.2</td>\n",
       "      <td>3.1</td>\n",
       "      <td>3.1</td>\n",
       "      <td>3.430</td>\n",
       "      <td>27558</td>\n",
       "      <td>9185970</td>\n",
       "    </tr>\n",
       "    <tr>\n",
       "      <th>22</th>\n",
       "      <td>P06851</td>\n",
       "      <td>KK Nagar</td>\n",
       "      <td>2010</td>\n",
       "      <td>114</td>\n",
       "      <td>3.0</td>\n",
       "      <td>2.0</td>\n",
       "      <td>5</td>\n",
       "      <td>Partial</td>\n",
       "      <td>No</td>\n",
       "      <td>Others</td>\n",
       "      <td>NoSewr</td>\n",
       "      <td>Gravel</td>\n",
       "      <td>RH</td>\n",
       "      <td>3.4</td>\n",
       "      <td>4.5</td>\n",
       "      <td>3.4</td>\n",
       "      <td>3.730</td>\n",
       "      <td>262210</td>\n",
       "      <td>10925400</td>\n",
       "    </tr>\n",
       "    <tr>\n",
       "      <th>23</th>\n",
       "      <td>P04665</td>\n",
       "      <td>Chrompet</td>\n",
       "      <td>1074</td>\n",
       "      <td>100</td>\n",
       "      <td>1.0</td>\n",
       "      <td>1.0</td>\n",
       "      <td>3</td>\n",
       "      <td>AbNormal</td>\n",
       "      <td>No</td>\n",
       "      <td>Others</td>\n",
       "      <td>NoSewr</td>\n",
       "      <td>Gravel</td>\n",
       "      <td>RL</td>\n",
       "      <td>3.0</td>\n",
       "      <td>3.4</td>\n",
       "      <td>4.9</td>\n",
       "      <td>3.730</td>\n",
       "      <td>86646</td>\n",
       "      <td>9627380</td>\n",
       "    </tr>\n",
       "    <tr>\n",
       "      <th>24</th>\n",
       "      <td>P00902</td>\n",
       "      <td>T Nagar</td>\n",
       "      <td>1972</td>\n",
       "      <td>111</td>\n",
       "      <td>2.0</td>\n",
       "      <td>1.0</td>\n",
       "      <td>5</td>\n",
       "      <td>AdjLand</td>\n",
       "      <td>No</td>\n",
       "      <td>Others</td>\n",
       "      <td>NoSewr</td>\n",
       "      <td>No Access</td>\n",
       "      <td>RH</td>\n",
       "      <td>4.1</td>\n",
       "      <td>4.4</td>\n",
       "      <td>2.8</td>\n",
       "      <td>3.590</td>\n",
       "      <td>167073</td>\n",
       "      <td>13922760</td>\n",
       "    </tr>\n",
       "  </tbody>\n",
       "</table>\n",
       "</div>"
      ],
      "text/plain": [
       "    PRT_ID        AREA  INT_SQFT  DIST_MAINROAD  N_BEDROOM  N_BATHROOM  \\\n",
       "0   P03210  Karapakkam      1004            131        1.0         1.0   \n",
       "1   P09411  Anna Nagar      1986             26        2.0         1.0   \n",
       "2   P01812       Adyar       909             70        1.0         1.0   \n",
       "3   P05346   Velachery      1855             14        3.0         2.0   \n",
       "4   P06210  Karapakkam      1226             84        1.0         1.0   \n",
       "5   P00219    Chrompet      1220             36        2.0         1.0   \n",
       "6   P09105    Chrompet      1167            137        1.0         1.0   \n",
       "7   P09679   Velachery      1847            176        3.0         2.0   \n",
       "8   P03377    Chrompet       771            175        1.0         1.0   \n",
       "9   P09623   Velachery      1635             74        2.0         1.0   \n",
       "10  P09540    Chrompet      1203             78        2.0         1.0   \n",
       "11  P07121    Chrompet      1054            143        1.0         1.0   \n",
       "12  P05512    Chrompet      1196            137        1.0         1.0   \n",
       "13  P09370       Adyar      1056             83        1.0         1.0   \n",
       "14  P04085   Velachery      1865            157        3.0         2.0   \n",
       "15  P06328   Velachery      1868            148        3.0         2.0   \n",
       "16  P06039  Karapakkam      1639            175        2.0         2.0   \n",
       "17  P02016    Chrompet       796            134        1.0         1.0   \n",
       "18  P08160       Adyar      1136             69        1.0         1.0   \n",
       "19  P01372  Anna Nagar      1902            168        2.0         1.0   \n",
       "20  P00936    Chrompet      1069             53        1.0         1.0   \n",
       "21  P07346    Chrompet       931             96        1.0         1.0   \n",
       "22  P06851    KK Nagar      2010            114        3.0         2.0   \n",
       "23  P04665    Chrompet      1074            100        1.0         1.0   \n",
       "24  P00902     T Nagar      1972            111        2.0         1.0   \n",
       "\n",
       "    N_ROOM    SALE_COND PARK_FACIL   BUILDTYPE UTILITY_AVAIL     STREET  \\\n",
       "0        3     AbNormal        Yes  Commercial        AllPub      Paved   \n",
       "1        5     AbNormal         No  Commercial        AllPub     Gravel   \n",
       "2        3     AbNormal        Yes  Commercial           ELO     Gravel   \n",
       "3        5       Family         No      Others       NoSewr       Paved   \n",
       "4        3     AbNormal        Yes      Others        AllPub     Gravel   \n",
       "5        4      Partial         No  Commercial        NoSeWa  No Access   \n",
       "6        3      Partial         No      Others        AllPub  No Access   \n",
       "7        5       Family         No  Commercial        AllPub     Gravel   \n",
       "8        2      AdjLand         No      Others       NoSewr       Paved   \n",
       "9        4     AbNormal         No      Others           ELO  No Access   \n",
       "10       4      AdjLand        Yes  Commercial        AllPub  No Access   \n",
       "11       3      Partial         No      Others       NoSewr      Gravel   \n",
       "12       3       Family         No      Others       NoSewr   No Access   \n",
       "13       3      Partial        Yes      Others       NoSewr       Paved   \n",
       "14       5       Family         No  Commercial       NoSewr       Paved   \n",
       "15       5       Family         No  Commercial       NoSewr      Gravel   \n",
       "16       4  Normal Sale        Yes       House           ELO     Gravel   \n",
       "17       2      AdjLand        Yes  Commercial        AllPub  No Access   \n",
       "18       3  Normal Sale        Yes      Others        AllPub      Paved   \n",
       "19       5       Family        Yes  Commercial           ELO      Paved   \n",
       "20       3     AbNormal        Yes      Others       NoSewr       Paved   \n",
       "21       3     AbNormal        Yes      Others           ELO      Paved   \n",
       "22       5      Partial         No      Others       NoSewr      Gravel   \n",
       "23       3     AbNormal         No      Others       NoSewr      Gravel   \n",
       "24       5      AdjLand         No      Others       NoSewr   No Access   \n",
       "\n",
       "   MZZONE  QS_ROOMS  QS_BATHROOM  QS_BEDROOM  QS_OVERALL  COMMIS  SALES_PRICE  \n",
       "0       A       4.0          3.9         4.9       4.330  144400      7600000  \n",
       "1      RH       4.9          4.2         2.5       3.765  304049     21717770  \n",
       "2      RL       4.1          3.8         2.2       3.090   92114     13159200  \n",
       "3       I       4.7          3.9         3.6       4.010   77042      9630290  \n",
       "4       C       3.0          2.5         4.1       3.290   74063      7406250  \n",
       "5      RH       4.5          2.6         3.1       3.320  198316     12394750  \n",
       "6      RL       3.6          2.1         2.5       2.670   33955      8488790  \n",
       "7      RM       2.4          4.5         2.1       3.260  235204     16800250  \n",
       "8      RM       2.9          3.7         4.0       3.550   33236      8308970  \n",
       "9       I       3.1          3.1         3.3       3.160  121255      8083650  \n",
       "10     RM       4.0          3.2         4.5       3.830  119504     14938000  \n",
       "11     RM       2.2          3.1         3.3       2.890  141746      9449730  \n",
       "12     RL       2.1          2.5         2.1       2.260   35097      8774370  \n",
       "13     RH       2.2          3.4         3.7       3.190   37546      9386490  \n",
       "14     RM       4.8          2.2         4.9       3.660  294494     15499680  \n",
       "15     RH       3.8          3.8         3.1         NaN  188569     15714080  \n",
       "16      I       2.3          3.2         4.8       3.570   77904      8656000  \n",
       "17     RL       3.5          4.6         4.7       4.300  130951     10912550  \n",
       "18      A       4.6          2.6         2.9       3.350   49725      8287550  \n",
       "19     RL       4.5          4.9         4.9       4.760  212032     21203240  \n",
       "20     RM       2.8          2.7         4.9       3.390   43622     10905530  \n",
       "21     RL       4.2          3.1         3.1       3.430   27558      9185970  \n",
       "22     RH       3.4          4.5         3.4       3.730  262210     10925400  \n",
       "23     RL       3.0          3.4         4.9       3.730   86646      9627380  \n",
       "24     RH       4.1          4.4         2.8       3.590  167073     13922760  "
      ]
     },
     "execution_count": 443,
     "metadata": {},
     "output_type": "execute_result"
    }
   ],
   "source": [
    "df.head(25)"
   ]
  },
  {
   "cell_type": "code",
   "execution_count": 444,
   "metadata": {},
   "outputs": [
    {
     "name": "stdout",
     "output_type": "stream",
     "text": [
      "Mode of Bedrooms= 1.0\n",
      "Mode of Bathrooms= 1.0\n"
     ]
    }
   ],
   "source": [
    "print(\"Mode of Bedrooms=\",df['N_BEDROOM'].mode()[0])     # only one missing therefore no prblm\n",
    "print(\"Mode of Bathrooms=\",df['N_BEDROOM'].mode()[0])     "
   ]
  },
  {
   "cell_type": "code",
   "execution_count": 445,
   "metadata": {},
   "outputs": [
    {
     "data": {
      "text/html": [
       "<div>\n",
       "<style scoped>\n",
       "    .dataframe tbody tr th:only-of-type {\n",
       "        vertical-align: middle;\n",
       "    }\n",
       "\n",
       "    .dataframe tbody tr th {\n",
       "        vertical-align: top;\n",
       "    }\n",
       "\n",
       "    .dataframe thead th {\n",
       "        text-align: right;\n",
       "    }\n",
       "</style>\n",
       "<table border=\"1\" class=\"dataframe\">\n",
       "  <thead>\n",
       "    <tr style=\"text-align: right;\">\n",
       "      <th></th>\n",
       "      <th>PRT_ID</th>\n",
       "      <th>AREA</th>\n",
       "      <th>INT_SQFT</th>\n",
       "      <th>DIST_MAINROAD</th>\n",
       "      <th>N_BEDROOM</th>\n",
       "      <th>N_BATHROOM</th>\n",
       "      <th>N_ROOM</th>\n",
       "      <th>SALE_COND</th>\n",
       "      <th>PARK_FACIL</th>\n",
       "      <th>BUILDTYPE</th>\n",
       "      <th>UTILITY_AVAIL</th>\n",
       "      <th>STREET</th>\n",
       "      <th>MZZONE</th>\n",
       "      <th>QS_ROOMS</th>\n",
       "      <th>QS_BATHROOM</th>\n",
       "      <th>QS_BEDROOM</th>\n",
       "      <th>QS_OVERALL</th>\n",
       "      <th>COMMIS</th>\n",
       "      <th>SALES_PRICE</th>\n",
       "    </tr>\n",
       "  </thead>\n",
       "  <tbody>\n",
       "    <tr>\n",
       "      <th>70</th>\n",
       "      <td>P05304</td>\n",
       "      <td>Anna Nagar</td>\n",
       "      <td>1589</td>\n",
       "      <td>39</td>\n",
       "      <td>1.0</td>\n",
       "      <td>NaN</td>\n",
       "      <td>4</td>\n",
       "      <td>Partial</td>\n",
       "      <td>No</td>\n",
       "      <td>Others</td>\n",
       "      <td>AllPub</td>\n",
       "      <td>Gravel</td>\n",
       "      <td>RL</td>\n",
       "      <td>2.1</td>\n",
       "      <td>2.5</td>\n",
       "      <td>4.5</td>\n",
       "      <td>3.16</td>\n",
       "      <td>85486</td>\n",
       "      <td>12212350</td>\n",
       "    </tr>\n",
       "    <tr>\n",
       "      <th>5087</th>\n",
       "      <td>P01333</td>\n",
       "      <td>Chrompet</td>\n",
       "      <td>1016</td>\n",
       "      <td>105</td>\n",
       "      <td>1.0</td>\n",
       "      <td>NaN</td>\n",
       "      <td>3</td>\n",
       "      <td>AbNormal</td>\n",
       "      <td>Yes</td>\n",
       "      <td>Others</td>\n",
       "      <td>NoSewr</td>\n",
       "      <td>Gravel</td>\n",
       "      <td>RM</td>\n",
       "      <td>3.2</td>\n",
       "      <td>4.2</td>\n",
       "      <td>2.0</td>\n",
       "      <td>3.24</td>\n",
       "      <td>106479</td>\n",
       "      <td>10647920</td>\n",
       "    </tr>\n",
       "    <tr>\n",
       "      <th>6134</th>\n",
       "      <td>P01332</td>\n",
       "      <td>Chrompet</td>\n",
       "      <td>916</td>\n",
       "      <td>173</td>\n",
       "      <td>1.0</td>\n",
       "      <td>NaN</td>\n",
       "      <td>3</td>\n",
       "      <td>Normal Sale</td>\n",
       "      <td>Yes</td>\n",
       "      <td>Others</td>\n",
       "      <td>ELO</td>\n",
       "      <td>Paved</td>\n",
       "      <td>RL</td>\n",
       "      <td>3.4</td>\n",
       "      <td>3.5</td>\n",
       "      <td>3.0</td>\n",
       "      <td>NaN</td>\n",
       "      <td>44237</td>\n",
       "      <td>8847420</td>\n",
       "    </tr>\n",
       "    <tr>\n",
       "      <th>6371</th>\n",
       "      <td>P01189</td>\n",
       "      <td>Chrompet</td>\n",
       "      <td>1035</td>\n",
       "      <td>90</td>\n",
       "      <td>1.0</td>\n",
       "      <td>NaN</td>\n",
       "      <td>3</td>\n",
       "      <td>Partial</td>\n",
       "      <td>No</td>\n",
       "      <td>Others</td>\n",
       "      <td>NoSeWa</td>\n",
       "      <td>No Access</td>\n",
       "      <td>RM</td>\n",
       "      <td>2.3</td>\n",
       "      <td>3.5</td>\n",
       "      <td>3.2</td>\n",
       "      <td>3.05</td>\n",
       "      <td>24823</td>\n",
       "      <td>8274200</td>\n",
       "    </tr>\n",
       "    <tr>\n",
       "      <th>6535</th>\n",
       "      <td>P09189</td>\n",
       "      <td>Anna Nagar</td>\n",
       "      <td>1864</td>\n",
       "      <td>184</td>\n",
       "      <td>2.0</td>\n",
       "      <td>NaN</td>\n",
       "      <td>5</td>\n",
       "      <td>Family</td>\n",
       "      <td>Yes</td>\n",
       "      <td>Others</td>\n",
       "      <td>NoSewr</td>\n",
       "      <td>Paved</td>\n",
       "      <td>RM</td>\n",
       "      <td>3.3</td>\n",
       "      <td>3.7</td>\n",
       "      <td>4.7</td>\n",
       "      <td>3.96</td>\n",
       "      <td>124455</td>\n",
       "      <td>15556920</td>\n",
       "    </tr>\n",
       "  </tbody>\n",
       "</table>\n",
       "</div>"
      ],
      "text/plain": [
       "      PRT_ID        AREA  INT_SQFT  DIST_MAINROAD  N_BEDROOM  N_BATHROOM  \\\n",
       "70    P05304  Anna Nagar      1589             39        1.0         NaN   \n",
       "5087  P01333    Chrompet      1016            105        1.0         NaN   \n",
       "6134  P01332    Chrompet       916            173        1.0         NaN   \n",
       "6371  P01189    Chrompet      1035             90        1.0         NaN   \n",
       "6535  P09189  Anna Nagar      1864            184        2.0         NaN   \n",
       "\n",
       "      N_ROOM    SALE_COND PARK_FACIL BUILDTYPE UTILITY_AVAIL     STREET  \\\n",
       "70         4      Partial         No    Others        AllPub     Gravel   \n",
       "5087       3     AbNormal        Yes    Others       NoSewr      Gravel   \n",
       "6134       3  Normal Sale        Yes    Others           ELO      Paved   \n",
       "6371       3      Partial         No    Others        NoSeWa  No Access   \n",
       "6535       5       Family        Yes    Others       NoSewr       Paved   \n",
       "\n",
       "     MZZONE  QS_ROOMS  QS_BATHROOM  QS_BEDROOM  QS_OVERALL  COMMIS  \\\n",
       "70       RL       2.1          2.5         4.5        3.16   85486   \n",
       "5087     RM       3.2          4.2         2.0        3.24  106479   \n",
       "6134     RL       3.4          3.5         3.0         NaN   44237   \n",
       "6371     RM       2.3          3.5         3.2        3.05   24823   \n",
       "6535     RM       3.3          3.7         4.7        3.96  124455   \n",
       "\n",
       "      SALES_PRICE  \n",
       "70       12212350  \n",
       "5087     10647920  \n",
       "6134      8847420  \n",
       "6371      8274200  \n",
       "6535     15556920  "
      ]
     },
     "execution_count": 445,
     "metadata": {},
     "output_type": "execute_result"
    }
   ],
   "source": [
    "df.loc[df['N_BATHROOM'].isnull()==True]"
   ]
  },
  {
   "cell_type": "code",
   "execution_count": 446,
   "metadata": {},
   "outputs": [
    {
     "name": "stdout",
     "output_type": "stream",
     "text": [
      "0   0\n"
     ]
    }
   ],
   "source": [
    "df[\"N_BEDROOM\"].fillna(value=df['N_BEDROOM'].mode()[0],inplace=True)\n",
    "df[\"N_BATHROOM\"].fillna(value=df['N_BATHROOM'].mode()[0],inplace=True)      # in head() we can observe 2 bathrooms are req fr\n",
    "print(df[\"N_BEDROOM\"].isnull().sum(),\" \",df[\"N_BATHROOM\"].isnull().sum())   #  bedroom >= 3"
   ]
  },
  {
   "cell_type": "code",
   "execution_count": 447,
   "metadata": {},
   "outputs": [
    {
     "data": {
      "text/plain": [
       "<matplotlib.axes._subplots.AxesSubplot at 0x1568f94dfc8>"
      ]
     },
     "execution_count": 447,
     "metadata": {},
     "output_type": "execute_result"
    },
    {
     "data": {
      "image/png": "[encoded data removed]",
      "text/plain": [
       "<Figure size 432x288 with 1 Axes>"
      ]
     },
     "metadata": {
      "needs_background": "light"
     },
     "output_type": "display_data"
    }
   ],
   "source": [
    "df[\"N_BATHROOM\"].value_counts().plot(kind='bar',color=['blue','green'])"
   ]
  },
  {
   "cell_type": "markdown",
   "metadata": {},
   "source": [
    "#### 3. QS_OVERALL"
   ]
  },
  {
   "cell_type": "code",
   "execution_count": 448,
   "metadata": {
    "scrolled": false
   },
   "outputs": [
    {
     "data": {
      "text/html": [
       "<div>\n",
       "<style scoped>\n",
       "    .dataframe tbody tr th:only-of-type {\n",
       "        vertical-align: middle;\n",
       "    }\n",
       "\n",
       "    .dataframe tbody tr th {\n",
       "        vertical-align: top;\n",
       "    }\n",
       "\n",
       "    .dataframe thead th {\n",
       "        text-align: right;\n",
       "    }\n",
       "</style>\n",
       "<table border=\"1\" class=\"dataframe\">\n",
       "  <thead>\n",
       "    <tr style=\"text-align: right;\">\n",
       "      <th></th>\n",
       "      <th>QS_ROOMS</th>\n",
       "      <th>QS_BATHROOM</th>\n",
       "      <th>QS_BEDROOM</th>\n",
       "      <th>QS_OVERALL</th>\n",
       "    </tr>\n",
       "  </thead>\n",
       "  <tbody>\n",
       "    <tr>\n",
       "      <th>0</th>\n",
       "      <td>4.0</td>\n",
       "      <td>3.9</td>\n",
       "      <td>4.9</td>\n",
       "      <td>4.330</td>\n",
       "    </tr>\n",
       "    <tr>\n",
       "      <th>1</th>\n",
       "      <td>4.9</td>\n",
       "      <td>4.2</td>\n",
       "      <td>2.5</td>\n",
       "      <td>3.765</td>\n",
       "    </tr>\n",
       "    <tr>\n",
       "      <th>2</th>\n",
       "      <td>4.1</td>\n",
       "      <td>3.8</td>\n",
       "      <td>2.2</td>\n",
       "      <td>3.090</td>\n",
       "    </tr>\n",
       "    <tr>\n",
       "      <th>3</th>\n",
       "      <td>4.7</td>\n",
       "      <td>3.9</td>\n",
       "      <td>3.6</td>\n",
       "      <td>4.010</td>\n",
       "    </tr>\n",
       "    <tr>\n",
       "      <th>4</th>\n",
       "      <td>3.0</td>\n",
       "      <td>2.5</td>\n",
       "      <td>4.1</td>\n",
       "      <td>3.290</td>\n",
       "    </tr>\n",
       "  </tbody>\n",
       "</table>\n",
       "</div>"
      ],
      "text/plain": [
       "   QS_ROOMS  QS_BATHROOM  QS_BEDROOM  QS_OVERALL\n",
       "0       4.0          3.9         4.9       4.330\n",
       "1       4.9          4.2         2.5       3.765\n",
       "2       4.1          3.8         2.2       3.090\n",
       "3       4.7          3.9         3.6       4.010\n",
       "4       3.0          2.5         4.1       3.290"
      ]
     },
     "execution_count": 448,
     "metadata": {},
     "output_type": "execute_result"
    }
   ],
   "source": [
    "df[[ 'QS_ROOMS','QS_BATHROOM', 'QS_BEDROOM', 'QS_OVERALL']].head()"
   ]
  },
  {
   "cell_type": "code",
   "execution_count": 449,
   "metadata": {
    "scrolled": true
   },
   "outputs": [
    {
     "data": {
      "text/html": [
       "<div>\n",
       "<style scoped>\n",
       "    .dataframe tbody tr th:only-of-type {\n",
       "        vertical-align: middle;\n",
       "    }\n",
       "\n",
       "    .dataframe tbody tr th {\n",
       "        vertical-align: top;\n",
       "    }\n",
       "\n",
       "    .dataframe thead th {\n",
       "        text-align: right;\n",
       "    }\n",
       "</style>\n",
       "<table border=\"1\" class=\"dataframe\">\n",
       "  <thead>\n",
       "    <tr style=\"text-align: right;\">\n",
       "      <th></th>\n",
       "      <th>QS_ROOMS</th>\n",
       "      <th>QS_BATHROOM</th>\n",
       "      <th>QS_BEDROOM</th>\n",
       "      <th>0</th>\n",
       "    </tr>\n",
       "  </thead>\n",
       "  <tbody>\n",
       "    <tr>\n",
       "      <th>0</th>\n",
       "      <td>4.0</td>\n",
       "      <td>3.9</td>\n",
       "      <td>4.9</td>\n",
       "      <td>4.266667</td>\n",
       "    </tr>\n",
       "    <tr>\n",
       "      <th>1</th>\n",
       "      <td>4.9</td>\n",
       "      <td>4.2</td>\n",
       "      <td>2.5</td>\n",
       "      <td>3.866667</td>\n",
       "    </tr>\n",
       "    <tr>\n",
       "      <th>2</th>\n",
       "      <td>4.1</td>\n",
       "      <td>3.8</td>\n",
       "      <td>2.2</td>\n",
       "      <td>3.366667</td>\n",
       "    </tr>\n",
       "    <tr>\n",
       "      <th>3</th>\n",
       "      <td>4.7</td>\n",
       "      <td>3.9</td>\n",
       "      <td>3.6</td>\n",
       "      <td>4.066667</td>\n",
       "    </tr>\n",
       "    <tr>\n",
       "      <th>4</th>\n",
       "      <td>3.0</td>\n",
       "      <td>2.5</td>\n",
       "      <td>4.1</td>\n",
       "      <td>3.200000</td>\n",
       "    </tr>\n",
       "    <tr>\n",
       "      <th>5</th>\n",
       "      <td>4.5</td>\n",
       "      <td>2.6</td>\n",
       "      <td>3.1</td>\n",
       "      <td>3.400000</td>\n",
       "    </tr>\n",
       "    <tr>\n",
       "      <th>6</th>\n",
       "      <td>3.6</td>\n",
       "      <td>2.1</td>\n",
       "      <td>2.5</td>\n",
       "      <td>2.733333</td>\n",
       "    </tr>\n",
       "    <tr>\n",
       "      <th>7</th>\n",
       "      <td>2.4</td>\n",
       "      <td>4.5</td>\n",
       "      <td>2.1</td>\n",
       "      <td>3.000000</td>\n",
       "    </tr>\n",
       "    <tr>\n",
       "      <th>8</th>\n",
       "      <td>2.9</td>\n",
       "      <td>3.7</td>\n",
       "      <td>4.0</td>\n",
       "      <td>3.533333</td>\n",
       "    </tr>\n",
       "    <tr>\n",
       "      <th>9</th>\n",
       "      <td>3.1</td>\n",
       "      <td>3.1</td>\n",
       "      <td>3.3</td>\n",
       "      <td>3.166667</td>\n",
       "    </tr>\n",
       "  </tbody>\n",
       "</table>\n",
       "</div>"
      ],
      "text/plain": [
       "   QS_ROOMS  QS_BATHROOM  QS_BEDROOM         0\n",
       "0       4.0          3.9         4.9  4.266667\n",
       "1       4.9          4.2         2.5  3.866667\n",
       "2       4.1          3.8         2.2  3.366667\n",
       "3       4.7          3.9         3.6  4.066667\n",
       "4       3.0          2.5         4.1  3.200000\n",
       "5       4.5          2.6         3.1  3.400000\n",
       "6       3.6          2.1         2.5  2.733333\n",
       "7       2.4          4.5         2.1  3.000000\n",
       "8       2.9          3.7         4.0  3.533333\n",
       "9       3.1          3.1         3.3  3.166667"
      ]
     },
     "execution_count": 449,
     "metadata": {},
     "output_type": "execute_result"
    }
   ],
   "source": [
    "temp = (df['QS_ROOMS'] + df['QS_BATHROOM'] + df['QS_BEDROOM'])/3\n",
    "pd.concat([df['QS_ROOMS'], df['QS_BATHROOM'], df['QS_BEDROOM'], temp], axis=1).head(10)"
   ]
  },
  {
   "cell_type": "markdown",
   "metadata": {},
   "source": [
    "**So Qs Overall corresponds to average QS score**"
   ]
  },
  {
   "cell_type": "code",
   "execution_count": 450,
   "metadata": {
    "scrolled": true
   },
   "outputs": [
    {
     "data": {
      "text/plain": [
       "(48, 19)"
      ]
     },
     "execution_count": 450,
     "metadata": {},
     "output_type": "execute_result"
    }
   ],
   "source": [
    "df.loc[df['QS_OVERALL'].isnull()==True].shape"
   ]
  },
  {
   "cell_type": "code",
   "execution_count": 451,
   "metadata": {},
   "outputs": [],
   "source": [
    "def fill_na(x):\n",
    "    return ((x['QS_ROOMS'] + x['QS_BATHROOM'] + x['QS_BEDROOM'])/3)"
   ]
  },
  {
   "cell_type": "code",
   "execution_count": 452,
   "metadata": {},
   "outputs": [],
   "source": [
    "df['QS_OVERALL'] =  df.apply(lambda x: fill_na(x) if pd.isnull(x['QS_OVERALL']) else x['QS_OVERALL'], axis=1)"
   ]
  },
  {
   "cell_type": "code",
   "execution_count": 453,
   "metadata": {},
   "outputs": [],
   "source": [
    "# data type of n_bedroom, n_room, n_bathroom to object\n",
    "\n",
    "df = df.astype({'N_BEDROOM': 'object', 'N_ROOM': 'object', 'N_BATHROOM': 'object'})"
   ]
  },
  {
   "cell_type": "code",
   "execution_count": 454,
   "metadata": {},
   "outputs": [
    {
     "data": {
      "text/html": [
       "<div>\n",
       "<style scoped>\n",
       "    .dataframe tbody tr th:only-of-type {\n",
       "        vertical-align: middle;\n",
       "    }\n",
       "\n",
       "    .dataframe tbody tr th {\n",
       "        vertical-align: top;\n",
       "    }\n",
       "\n",
       "    .dataframe thead th {\n",
       "        text-align: right;\n",
       "    }\n",
       "</style>\n",
       "<table border=\"1\" class=\"dataframe\">\n",
       "  <thead>\n",
       "    <tr style=\"text-align: right;\">\n",
       "      <th></th>\n",
       "      <th>data_type</th>\n",
       "      <th>null_count</th>\n",
       "      <th>unique_count</th>\n",
       "    </tr>\n",
       "  </thead>\n",
       "  <tbody>\n",
       "    <tr>\n",
       "      <th>PRT_ID</th>\n",
       "      <td>object</td>\n",
       "      <td>0</td>\n",
       "      <td>7109</td>\n",
       "    </tr>\n",
       "    <tr>\n",
       "      <th>AREA</th>\n",
       "      <td>object</td>\n",
       "      <td>0</td>\n",
       "      <td>7</td>\n",
       "    </tr>\n",
       "    <tr>\n",
       "      <th>INT_SQFT</th>\n",
       "      <td>int64</td>\n",
       "      <td>0</td>\n",
       "      <td>1699</td>\n",
       "    </tr>\n",
       "    <tr>\n",
       "      <th>DIST_MAINROAD</th>\n",
       "      <td>int64</td>\n",
       "      <td>0</td>\n",
       "      <td>201</td>\n",
       "    </tr>\n",
       "    <tr>\n",
       "      <th>N_BEDROOM</th>\n",
       "      <td>object</td>\n",
       "      <td>0</td>\n",
       "      <td>4</td>\n",
       "    </tr>\n",
       "    <tr>\n",
       "      <th>N_BATHROOM</th>\n",
       "      <td>object</td>\n",
       "      <td>0</td>\n",
       "      <td>2</td>\n",
       "    </tr>\n",
       "    <tr>\n",
       "      <th>N_ROOM</th>\n",
       "      <td>object</td>\n",
       "      <td>0</td>\n",
       "      <td>5</td>\n",
       "    </tr>\n",
       "    <tr>\n",
       "      <th>SALE_COND</th>\n",
       "      <td>object</td>\n",
       "      <td>0</td>\n",
       "      <td>5</td>\n",
       "    </tr>\n",
       "    <tr>\n",
       "      <th>PARK_FACIL</th>\n",
       "      <td>object</td>\n",
       "      <td>0</td>\n",
       "      <td>2</td>\n",
       "    </tr>\n",
       "    <tr>\n",
       "      <th>BUILDTYPE</th>\n",
       "      <td>object</td>\n",
       "      <td>0</td>\n",
       "      <td>3</td>\n",
       "    </tr>\n",
       "    <tr>\n",
       "      <th>UTILITY_AVAIL</th>\n",
       "      <td>object</td>\n",
       "      <td>0</td>\n",
       "      <td>4</td>\n",
       "    </tr>\n",
       "    <tr>\n",
       "      <th>STREET</th>\n",
       "      <td>object</td>\n",
       "      <td>0</td>\n",
       "      <td>3</td>\n",
       "    </tr>\n",
       "    <tr>\n",
       "      <th>MZZONE</th>\n",
       "      <td>object</td>\n",
       "      <td>0</td>\n",
       "      <td>6</td>\n",
       "    </tr>\n",
       "    <tr>\n",
       "      <th>QS_ROOMS</th>\n",
       "      <td>float64</td>\n",
       "      <td>0</td>\n",
       "      <td>31</td>\n",
       "    </tr>\n",
       "    <tr>\n",
       "      <th>QS_BATHROOM</th>\n",
       "      <td>float64</td>\n",
       "      <td>0</td>\n",
       "      <td>31</td>\n",
       "    </tr>\n",
       "    <tr>\n",
       "      <th>QS_BEDROOM</th>\n",
       "      <td>float64</td>\n",
       "      <td>0</td>\n",
       "      <td>31</td>\n",
       "    </tr>\n",
       "    <tr>\n",
       "      <th>QS_OVERALL</th>\n",
       "      <td>float64</td>\n",
       "      <td>0</td>\n",
       "      <td>509</td>\n",
       "    </tr>\n",
       "    <tr>\n",
       "      <th>COMMIS</th>\n",
       "      <td>int64</td>\n",
       "      <td>0</td>\n",
       "      <td>7011</td>\n",
       "    </tr>\n",
       "    <tr>\n",
       "      <th>SALES_PRICE</th>\n",
       "      <td>int64</td>\n",
       "      <td>0</td>\n",
       "      <td>7057</td>\n",
       "    </tr>\n",
       "  </tbody>\n",
       "</table>\n",
       "</div>"
      ],
      "text/plain": [
       "              data_type  null_count  unique_count\n",
       "PRT_ID           object           0          7109\n",
       "AREA             object           0             7\n",
       "INT_SQFT          int64           0          1699\n",
       "DIST_MAINROAD     int64           0           201\n",
       "N_BEDROOM        object           0             4\n",
       "N_BATHROOM       object           0             2\n",
       "N_ROOM           object           0             5\n",
       "SALE_COND        object           0             5\n",
       "PARK_FACIL       object           0             2\n",
       "BUILDTYPE        object           0             3\n",
       "UTILITY_AVAIL    object           0             4\n",
       "STREET           object           0             3\n",
       "MZZONE           object           0             6\n",
       "QS_ROOMS        float64           0            31\n",
       "QS_BATHROOM     float64           0            31\n",
       "QS_BEDROOM      float64           0            31\n",
       "QS_OVERALL      float64           0           509\n",
       "COMMIS            int64           0          7011\n",
       "SALES_PRICE       int64           0          7057"
      ]
     },
     "execution_count": 454,
     "metadata": {},
     "output_type": "execute_result"
    }
   ],
   "source": [
    "temp = pd.DataFrame(index = df.columns)\n",
    "temp['data_type']=df.dtypes\n",
    "temp['null_count']=df.isnull().sum()\n",
    "temp[\"unique_count\"]=df.nunique() \n",
    "temp"
   ]
  },
  {
   "cell_type": "markdown",
   "metadata": {},
   "source": [
    "#### All data correction done"
   ]
  },
  {
   "cell_type": "markdown",
   "metadata": {},
   "source": [
    "## NOW the implementation of Regression"
   ]
  },
  {
   "cell_type": "markdown",
   "metadata": {},
   "source": [
    "First findin if regression possible!!"
   ]
  },
  {
   "cell_type": "code",
   "execution_count": 455,
   "metadata": {},
   "outputs": [
    {
     "data": {
      "text/html": [
       "<div>\n",
       "<style scoped>\n",
       "    .dataframe tbody tr th:only-of-type {\n",
       "        vertical-align: middle;\n",
       "    }\n",
       "\n",
       "    .dataframe tbody tr th {\n",
       "        vertical-align: top;\n",
       "    }\n",
       "\n",
       "    .dataframe thead th {\n",
       "        text-align: right;\n",
       "    }\n",
       "</style>\n",
       "<table border=\"1\" class=\"dataframe\">\n",
       "  <thead>\n",
       "    <tr style=\"text-align: right;\">\n",
       "      <th></th>\n",
       "      <th>INT_SQFT</th>\n",
       "      <th>DIST_MAINROAD</th>\n",
       "      <th>QS_ROOMS</th>\n",
       "      <th>QS_BATHROOM</th>\n",
       "      <th>QS_BEDROOM</th>\n",
       "      <th>QS_OVERALL</th>\n",
       "      <th>COMMIS</th>\n",
       "      <th>SALES_PRICE</th>\n",
       "    </tr>\n",
       "  </thead>\n",
       "  <tbody>\n",
       "    <tr>\n",
       "      <th>INT_SQFT</th>\n",
       "      <td>1.000000</td>\n",
       "      <td>0.002022</td>\n",
       "      <td>0.019850</td>\n",
       "      <td>-0.008337</td>\n",
       "      <td>0.008865</td>\n",
       "      <td>0.012408</td>\n",
       "      <td>0.571076</td>\n",
       "      <td>0.612125</td>\n",
       "    </tr>\n",
       "    <tr>\n",
       "      <th>DIST_MAINROAD</th>\n",
       "      <td>0.002022</td>\n",
       "      <td>1.000000</td>\n",
       "      <td>0.002237</td>\n",
       "      <td>-0.029468</td>\n",
       "      <td>0.001554</td>\n",
       "      <td>-0.016678</td>\n",
       "      <td>0.010994</td>\n",
       "      <td>0.018783</td>\n",
       "    </tr>\n",
       "    <tr>\n",
       "      <th>QS_ROOMS</th>\n",
       "      <td>0.019850</td>\n",
       "      <td>0.002237</td>\n",
       "      <td>1.000000</td>\n",
       "      <td>0.008828</td>\n",
       "      <td>0.007789</td>\n",
       "      <td>0.517224</td>\n",
       "      <td>0.009377</td>\n",
       "      <td>0.021967</td>\n",
       "    </tr>\n",
       "    <tr>\n",
       "      <th>QS_BATHROOM</th>\n",
       "      <td>-0.008337</td>\n",
       "      <td>-0.029468</td>\n",
       "      <td>0.008828</td>\n",
       "      <td>1.000000</td>\n",
       "      <td>-0.011745</td>\n",
       "      <td>0.551826</td>\n",
       "      <td>-0.000471</td>\n",
       "      <td>-0.011377</td>\n",
       "    </tr>\n",
       "    <tr>\n",
       "      <th>QS_BEDROOM</th>\n",
       "      <td>0.008865</td>\n",
       "      <td>0.001554</td>\n",
       "      <td>0.007789</td>\n",
       "      <td>-0.011745</td>\n",
       "      <td>1.000000</td>\n",
       "      <td>0.629948</td>\n",
       "      <td>0.020118</td>\n",
       "      <td>0.018804</td>\n",
       "    </tr>\n",
       "    <tr>\n",
       "      <th>QS_OVERALL</th>\n",
       "      <td>0.012408</td>\n",
       "      <td>-0.016678</td>\n",
       "      <td>0.517224</td>\n",
       "      <td>0.551826</td>\n",
       "      <td>0.629948</td>\n",
       "      <td>1.000000</td>\n",
       "      <td>0.017057</td>\n",
       "      <td>0.020016</td>\n",
       "    </tr>\n",
       "    <tr>\n",
       "      <th>COMMIS</th>\n",
       "      <td>0.571076</td>\n",
       "      <td>0.010994</td>\n",
       "      <td>0.009377</td>\n",
       "      <td>-0.000471</td>\n",
       "      <td>0.020118</td>\n",
       "      <td>0.017057</td>\n",
       "      <td>1.000000</td>\n",
       "      <td>0.626275</td>\n",
       "    </tr>\n",
       "    <tr>\n",
       "      <th>SALES_PRICE</th>\n",
       "      <td>0.612125</td>\n",
       "      <td>0.018783</td>\n",
       "      <td>0.021967</td>\n",
       "      <td>-0.011377</td>\n",
       "      <td>0.018804</td>\n",
       "      <td>0.020016</td>\n",
       "      <td>0.626275</td>\n",
       "      <td>1.000000</td>\n",
       "    </tr>\n",
       "  </tbody>\n",
       "</table>\n",
       "</div>"
      ],
      "text/plain": [
       "               INT_SQFT  DIST_MAINROAD  QS_ROOMS  QS_BATHROOM  QS_BEDROOM  \\\n",
       "INT_SQFT       1.000000       0.002022  0.019850    -0.008337    0.008865   \n",
       "DIST_MAINROAD  0.002022       1.000000  0.002237    -0.029468    0.001554   \n",
       "QS_ROOMS       0.019850       0.002237  1.000000     0.008828    0.007789   \n",
       "QS_BATHROOM   -0.008337      -0.029468  0.008828     1.000000   -0.011745   \n",
       "QS_BEDROOM     0.008865       0.001554  0.007789    -0.011745    1.000000   \n",
       "QS_OVERALL     0.012408      -0.016678  0.517224     0.551826    0.629948   \n",
       "COMMIS         0.571076       0.010994  0.009377    -0.000471    0.020118   \n",
       "SALES_PRICE    0.612125       0.018783  0.021967    -0.011377    0.018804   \n",
       "\n",
       "               QS_OVERALL    COMMIS  SALES_PRICE  \n",
       "INT_SQFT         0.012408  0.571076     0.612125  \n",
       "DIST_MAINROAD   -0.016678  0.010994     0.018783  \n",
       "QS_ROOMS         0.517224  0.009377     0.021967  \n",
       "QS_BATHROOM      0.551826 -0.000471    -0.011377  \n",
       "QS_BEDROOM       0.629948  0.020118     0.018804  \n",
       "QS_OVERALL       1.000000  0.017057     0.020016  \n",
       "COMMIS           0.017057  1.000000     0.626275  \n",
       "SALES_PRICE      0.020016  0.626275     1.000000  "
      ]
     },
     "execution_count": 455,
     "metadata": {},
     "output_type": "execute_result"
    }
   ],
   "source": [
    "df.corr()"
   ]
  },
  {
   "cell_type": "code",
   "execution_count": 456,
   "metadata": {},
   "outputs": [
    {
     "data": {
      "text/plain": [
       "<matplotlib.axes._subplots.AxesSubplot at 0x1568fc63b08>"
      ]
     },
     "execution_count": 456,
     "metadata": {},
     "output_type": "execute_result"
    },
    {
     "data": {
      "image/png": "[encoded data removed]",
      "text/plain": [
       "<Figure size 432x288 with 2 Axes>"
      ]
     },
     "metadata": {
      "needs_background": "light"
     },
     "output_type": "display_data"
    }
   ],
   "source": [
    "sns.heatmap(df.corr(),annot=True)"
   ]
  },
  {
   "cell_type": "markdown",
   "metadata": {},
   "source": [
    "**correlation found for numerical datas**\n",
    "  - sales_price & INt-sqft (0.612125)\n",
    "  - sales_price & commis   (0.626275)\n",
    "  - (+ve correlation both)"
   ]
  },
  {
   "cell_type": "code",
   "execution_count": 457,
   "metadata": {},
   "outputs": [
    {
     "data": {
      "text/plain": [
       "Index(['PRT_ID', 'AREA', 'INT_SQFT', 'DIST_MAINROAD', 'N_BEDROOM',\n",
       "       'N_BATHROOM', 'N_ROOM', 'SALE_COND', 'PARK_FACIL', 'BUILDTYPE',\n",
       "       'UTILITY_AVAIL', 'STREET', 'MZZONE', 'QS_ROOMS', 'QS_BATHROOM',\n",
       "       'QS_BEDROOM', 'QS_OVERALL', 'COMMIS', 'SALES_PRICE'],\n",
       "      dtype='object')"
      ]
     },
     "execution_count": 457,
     "metadata": {},
     "output_type": "execute_result"
    }
   ],
   "source": [
    "df.columns"
   ]
  },
  {
   "cell_type": "code",
   "execution_count": 458,
   "metadata": {
    "scrolled": false
   },
   "outputs": [
    {
     "data": {
      "image/png": "[encoded data removed]",
      "text/plain": [
       "<Figure size 180x3240 with 18 Axes>"
      ]
     },
     "metadata": {
      "needs_background": "light"
     },
     "output_type": "display_data"
    }
   ],
   "source": [
    "sns.pairplot(df,y_vars=['AREA', 'INT_SQFT', 'DIST_MAINROAD', 'N_BEDROOM',\n",
    "       'N_BATHROOM', 'N_ROOM', 'SALE_COND', 'PARK_FACIL', 'BUILDTYPE',\n",
    "       'UTILITY_AVAIL', 'STREET', 'MZZONE', 'QS_ROOMS', 'QS_BATHROOM',\n",
    "       'QS_BEDROOM', 'QS_OVERALL', 'COMMIS', 'SALES_PRICE'],x_vars=['SALES_PRICE'],kind='scatter')\n",
    "plt.show()                               # TAKES tooo much time better to look individually after finding correlation"
   ]
  },
  {
   "cell_type": "markdown",
   "metadata": {},
   "source": [
    "From this we can analyse houses having which facilities , location etc have what type of price range\n",
    "- commercial houses are more costly\n",
    "- houses having 4-5 rooms are most costly\n",
    "- houses in T Nagar , Anna Nagar are more costly"
   ]
  },
  {
   "cell_type": "markdown",
   "metadata": {},
   "source": [
    "CAN try Group by for more insights"
   ]
  },
  {
   "cell_type": "markdown",
   "metadata": {
    "collapsed": true
   },
   "source": [
    "## Linear Regression Model"
   ]
  },
  {
   "cell_type": "code",
   "execution_count": 459,
   "metadata": {},
   "outputs": [],
   "source": [
    "df.drop(['PRT_ID'], axis=1, inplace = True)"
   ]
  },
  {
   "cell_type": "code",
   "execution_count": 460,
   "metadata": {},
   "outputs": [],
   "source": [
    "df = pd.get_dummies(df)"
   ]
  },
  {
   "cell_type": "code",
   "execution_count": 461,
   "metadata": {},
   "outputs": [],
   "source": [
    "x = df.drop('SALES_PRICE', axis=1)\n",
    "y= df['SALES_PRICE']"
   ]
  },
  {
   "cell_type": "markdown",
   "metadata": {},
   "source": [
    "### Train Test Split"
   ]
  },
  {
   "cell_type": "code",
   "execution_count": 462,
   "metadata": {},
   "outputs": [
    {
     "data": {
      "text/plain": [
       "((4976, 48), (2133, 48), (4976,), (2133,))"
      ]
     },
     "execution_count": 462,
     "metadata": {},
     "output_type": "execute_result"
    }
   ],
   "source": [
    "from sklearn.model_selection import train_test_split\n",
    "train_x, valid_x, train_y, valid_y = train_test_split(x, y, test_size = 0.3, random_state = 2)\n",
    "\n",
    "train_x.shape, valid_x.shape, train_y.shape, valid_y.shape"
   ]
  },
  {
   "cell_type": "code",
   "execution_count": 463,
   "metadata": {},
   "outputs": [],
   "source": [
    "from sklearn.linear_model import LinearRegression\n",
    "from sklearn.metrics import mean_squared_log_error"
   ]
  },
  {
   "cell_type": "code",
   "execution_count": 464,
   "metadata": {},
   "outputs": [
    {
     "data": {
      "text/plain": [
       "LinearRegression(copy_X=True, fit_intercept=True, n_jobs=None, normalize=False)"
      ]
     },
     "execution_count": 464,
     "metadata": {},
     "output_type": "execute_result"
    }
   ],
   "source": [
    "lreg = LinearRegression()\n",
    "lreg.fit(train_x, train_y)"
   ]
  },
  {
   "cell_type": "markdown",
   "metadata": {
    "collapsed": true
   },
   "source": [
    "### Model Evaluation - RMSLE"
   ]
  },
  {
   "cell_type": "code",
   "execution_count": 465,
   "metadata": {},
   "outputs": [],
   "source": [
    "pred_train = lreg.predict(train_x)\n",
    "train_score = np.sqrt(mean_squared_log_error(train_y,pred_train))"
   ]
  },
  {
   "cell_type": "code",
   "execution_count": 466,
   "metadata": {},
   "outputs": [],
   "source": [
    "pred_test = lreg.predict(valid_x)\n",
    "valid_score=np.sqrt(mean_squared_log_error(valid_y,pred_test))"
   ]
  },
  {
   "cell_type": "code",
   "execution_count": 467,
   "metadata": {},
   "outputs": [
    {
     "name": "stdout",
     "output_type": "stream",
     "text": [
      "Training score: 0.09096543637406047\n",
      "Validation score: 0.09460135668977646\n"
     ]
    }
   ],
   "source": [
    "print('Training score:', train_score)\n",
    "print('Validation score:', valid_score)"
   ]
  }
 ],
 "metadata": {
  "kernelspec": {
   "display_name": "Python 3",
   "language": "python",
   "name": "python3"
  },
  "language_info": {
   "codemirror_mode": {
    "name": "ipython",
    "version": 3
   },
   "file_extension": ".py",
   "mimetype": "text/x-python",
   "name": "python",
   "nbconvert_exporter": "python",
   "pygments_lexer": "ipython3",
   "version": "3.7.7"
  }
 },
 "nbformat": 4,
 "nbformat_minor": 4
}
